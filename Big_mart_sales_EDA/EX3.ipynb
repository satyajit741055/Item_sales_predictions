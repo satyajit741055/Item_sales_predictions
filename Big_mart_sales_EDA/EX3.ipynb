{
 "cells": [
  {
   "cell_type": "code",
   "execution_count": 119,
   "id": "5c946320",
   "metadata": {},
   "outputs": [],
   "source": [
    "import pandas as pd\n",
    "import matplotlib.pyplot as plt\n",
    "import seaborn as sns\n",
    "import numpy as np\n",
    "from scipy.stats import norm\n",
    "import warnings\n",
    "warnings.filterwarnings('ignore')\n",
    "%matplotlib inline\n",
    "\n",
    "\n",
    "\n",
    "\n",
    "from sklearn.impute import KNNImputer\n",
    "from sklearn.preprocessing import LabelEncoder,OneHotEncoder,StandardScaler\n",
    "\n",
    "from statsmodels.stats.outliers_influence import variance_inflation_factor\n",
    "from sklearn.pipeline import Pipeline\n",
    "from sklearn.compose import ColumnTransformer\n",
    "\n",
    "import random"
   ]
  },
  {
   "cell_type": "code",
   "execution_count": 120,
   "id": "9d87a22c",
   "metadata": {},
   "outputs": [],
   "source": [
    "df_train = pd.read_csv('train.csv')"
   ]
  },
  {
   "cell_type": "code",
   "execution_count": 121,
   "id": "090e733f",
   "metadata": {},
   "outputs": [],
   "source": [
    "input_feature_train_df = df_train.drop(['Item_Outlet_Sales'],axis=1)\n",
    "target_feature_train_df = df_train['Item_Outlet_Sales']"
   ]
  },
  {
   "cell_type": "code",
   "execution_count": 122,
   "id": "a2bcf541",
   "metadata": {},
   "outputs": [],
   "source": [
    "input_feature_train_df['Item_Fat_Content'] = input_feature_train_df['Item_Fat_Content'].replace(['LF','low fat','reg'],['Low Fat','Low Fat','Regular'])"
   ]
  },
  {
   "cell_type": "code",
   "execution_count": 123,
   "id": "e16cc181",
   "metadata": {},
   "outputs": [],
   "source": [
    "input_feature_train_df['Item_Identifier'] = input_feature_train_df['Item_Identifier'].apply(lambda x:x[:2])"
   ]
  },
  {
   "cell_type": "code",
   "execution_count": 124,
   "id": "fdf2abf7",
   "metadata": {},
   "outputs": [],
   "source": [
    "input_feature_train_df['Outlet_age'] = 2013 - input_feature_train_df['Outlet_Establishment_Year']\n",
    "            input_feature_train_df.drop(columns=['Outlet_Establishment_Year'],inplace=True)"
   ]
  },
  {
   "cell_type": "code",
   "execution_count": 125,
   "id": "df3a346a",
   "metadata": {},
   "outputs": [],
   "source": [
    "input_feature_train_df.loc[input_feature_train_df['Item_Identifier']=='NC','Item_Fat_Content'] = 'Non Edible'"
   ]
  },
  {
   "cell_type": "code",
   "execution_count": 126,
   "id": "15a00c7f",
   "metadata": {},
   "outputs": [],
   "source": [
    "input_feature_train_df.drop(columns=['Item_Type','Outlet_Identifier'],inplace = True)"
   ]
  },
  {
   "cell_type": "code",
   "execution_count": 127,
   "id": "3c4d0037",
   "metadata": {},
   "outputs": [],
   "source": [
    "def numerical_categorical_column(dataframe):\n",
    "        '''\n",
    "        This function returns the numerical and categorical column \n",
    "        return numerical_columns,categorical_columns\n",
    "        '''\n",
    "        numerical_columns = [i for i in dataframe.columns if  dataframe[i].dtype != 'O']\n",
    "        categorical_columns = [i for i in dataframe.columns if  dataframe[i].dtype == 'O']\n",
    "        return numerical_columns,categorical_columns"
   ]
  },
  {
   "cell_type": "code",
   "execution_count": 128,
   "id": "3035956d",
   "metadata": {},
   "outputs": [],
   "source": [
    "numerical_features_train,categorical_features_train = numerical_categorical_column(input_feature_train_df)"
   ]
  },
  {
   "cell_type": "code",
   "execution_count": 129,
   "id": "bca4ca2c",
   "metadata": {},
   "outputs": [],
   "source": [
    "def encoding(dataframe):\n",
    "        # Changing Values of item Identifier because sales of item identifier are more so giving high value\n",
    "        Item_Identifier = {'DR': 1, 'FD': 3, 'NC': 2}\n",
    "        # Changing Values of Item_Fat_Content because sales of Regular are more so giving high value\n",
    "        Item_Fat_Content = {'Low Fat': 1, 'Non Edible': 0, 'Regular': 2}\n",
    "        # Changing Values of outlet size because sales in medium size outlets are more so giving high value\n",
    "        Outlet_Size = {'High': 2, 'Medium': 3, 'Small': 1, np.nan: 0} \n",
    "        Outlet_Location_Type = {'Tier 1': 0, 'Tier 2': 1, 'Tier 3': 2}\n",
    "        Outlet_Type = {'Grocery Store': 0,\n",
    "        'Supermarket Type1': 2,\n",
    "        'Supermarket Type2': 1,\n",
    "        'Supermarket Type3': 3}\n",
    "        for i in dataframe.columns:\n",
    "            if i == \"Item_Identifier\":\n",
    "                dataframe[i] = dataframe[i].map(Item_Identifier)\n",
    "            elif i ==\"Item_Fat_Content\":\n",
    "                dataframe[i] = dataframe[i].map(Item_Fat_Content)\n",
    "            elif i ==\"Outlet_Size\":\n",
    "                dataframe[i] = dataframe[i].map(Outlet_Size)\n",
    "            elif i ==\"Outlet_Location_Type\":\n",
    "                dataframe[i] = dataframe[i].map(Outlet_Location_Type)\n",
    "            elif i ==\"Outlet_Type\":\n",
    "                dataframe[i] = dataframe[i].map(Outlet_Type)\n",
    "            else: \n",
    "                print(\"Not Able to Encode\")\n",
    "        \n",
    "        return dataframe"
   ]
  },
  {
   "cell_type": "code",
   "execution_count": 130,
   "id": "0464d3e9",
   "metadata": {},
   "outputs": [],
   "source": [
    "train_num_df = input_feature_train_df[numerical_features_train]\n",
    "train_cat_df = input_feature_train_df[categorical_features_train]\n",
    "#train_cat_df = encoding(train_cat_df)\n",
    "\n",
    "\n",
    "# Encoding \n",
    "encoder = LabelEncoder()\n",
    "\n",
    "for i in categorical_features_train:\n",
    "    train_cat_df[i] = encoder.fit_transform(train_cat_df[i])\n",
    "    \n",
    "train_cat_df['Outlet_Size'].replace(3,np.nan,inplace=True)"
   ]
  },
  {
   "cell_type": "code",
   "execution_count": 143,
   "id": "e2fcf769",
   "metadata": {},
   "outputs": [
    {
     "data": {
      "text/plain": [
       "['Item_Weight', 'Item_Visibility', 'Item_MRP', 'Outlet_age']"
      ]
     },
     "execution_count": 143,
     "metadata": {},
     "output_type": "execute_result"
    }
   ],
   "source": [
    "numerical_features_train"
   ]
  },
  {
   "cell_type": "code",
   "execution_count": 144,
   "id": "469cdc87",
   "metadata": {},
   "outputs": [
    {
     "data": {
      "text/html": [
       "<div>\n",
       "<style scoped>\n",
       "    .dataframe tbody tr th:only-of-type {\n",
       "        vertical-align: middle;\n",
       "    }\n",
       "\n",
       "    .dataframe tbody tr th {\n",
       "        vertical-align: top;\n",
       "    }\n",
       "\n",
       "    .dataframe thead th {\n",
       "        text-align: right;\n",
       "    }\n",
       "</style>\n",
       "<table border=\"1\" class=\"dataframe\">\n",
       "  <thead>\n",
       "    <tr style=\"text-align: right;\">\n",
       "      <th></th>\n",
       "      <th>Item_Weight</th>\n",
       "      <th>Item_Visibility</th>\n",
       "      <th>Item_MRP</th>\n",
       "      <th>Outlet_age</th>\n",
       "      <th>Item_Identifier</th>\n",
       "      <th>Item_Fat_Content</th>\n",
       "      <th>Outlet_Size</th>\n",
       "      <th>Outlet_Location_Type</th>\n",
       "      <th>Outlet_Type</th>\n",
       "    </tr>\n",
       "  </thead>\n",
       "  <tbody>\n",
       "    <tr>\n",
       "      <th>0</th>\n",
       "      <td>9.300</td>\n",
       "      <td>0.016047</td>\n",
       "      <td>249.8092</td>\n",
       "      <td>14</td>\n",
       "      <td>1</td>\n",
       "      <td>0</td>\n",
       "      <td>1.0</td>\n",
       "      <td>0</td>\n",
       "      <td>1</td>\n",
       "    </tr>\n",
       "    <tr>\n",
       "      <th>1</th>\n",
       "      <td>5.920</td>\n",
       "      <td>0.019278</td>\n",
       "      <td>48.2692</td>\n",
       "      <td>4</td>\n",
       "      <td>0</td>\n",
       "      <td>2</td>\n",
       "      <td>1.0</td>\n",
       "      <td>2</td>\n",
       "      <td>2</td>\n",
       "    </tr>\n",
       "    <tr>\n",
       "      <th>2</th>\n",
       "      <td>17.500</td>\n",
       "      <td>0.016760</td>\n",
       "      <td>141.6180</td>\n",
       "      <td>14</td>\n",
       "      <td>1</td>\n",
       "      <td>0</td>\n",
       "      <td>1.0</td>\n",
       "      <td>0</td>\n",
       "      <td>1</td>\n",
       "    </tr>\n",
       "    <tr>\n",
       "      <th>3</th>\n",
       "      <td>19.200</td>\n",
       "      <td>0.000000</td>\n",
       "      <td>182.0950</td>\n",
       "      <td>15</td>\n",
       "      <td>1</td>\n",
       "      <td>2</td>\n",
       "      <td>NaN</td>\n",
       "      <td>2</td>\n",
       "      <td>0</td>\n",
       "    </tr>\n",
       "    <tr>\n",
       "      <th>4</th>\n",
       "      <td>8.930</td>\n",
       "      <td>0.000000</td>\n",
       "      <td>53.8614</td>\n",
       "      <td>26</td>\n",
       "      <td>2</td>\n",
       "      <td>1</td>\n",
       "      <td>0.0</td>\n",
       "      <td>2</td>\n",
       "      <td>1</td>\n",
       "    </tr>\n",
       "    <tr>\n",
       "      <th>...</th>\n",
       "      <td>...</td>\n",
       "      <td>...</td>\n",
       "      <td>...</td>\n",
       "      <td>...</td>\n",
       "      <td>...</td>\n",
       "      <td>...</td>\n",
       "      <td>...</td>\n",
       "      <td>...</td>\n",
       "      <td>...</td>\n",
       "    </tr>\n",
       "    <tr>\n",
       "      <th>8518</th>\n",
       "      <td>6.865</td>\n",
       "      <td>0.056783</td>\n",
       "      <td>214.5218</td>\n",
       "      <td>26</td>\n",
       "      <td>1</td>\n",
       "      <td>0</td>\n",
       "      <td>0.0</td>\n",
       "      <td>2</td>\n",
       "      <td>1</td>\n",
       "    </tr>\n",
       "    <tr>\n",
       "      <th>8519</th>\n",
       "      <td>8.380</td>\n",
       "      <td>0.046982</td>\n",
       "      <td>108.1570</td>\n",
       "      <td>11</td>\n",
       "      <td>1</td>\n",
       "      <td>2</td>\n",
       "      <td>NaN</td>\n",
       "      <td>1</td>\n",
       "      <td>1</td>\n",
       "    </tr>\n",
       "    <tr>\n",
       "      <th>8520</th>\n",
       "      <td>10.600</td>\n",
       "      <td>0.035186</td>\n",
       "      <td>85.1224</td>\n",
       "      <td>9</td>\n",
       "      <td>2</td>\n",
       "      <td>1</td>\n",
       "      <td>2.0</td>\n",
       "      <td>1</td>\n",
       "      <td>1</td>\n",
       "    </tr>\n",
       "    <tr>\n",
       "      <th>8521</th>\n",
       "      <td>7.210</td>\n",
       "      <td>0.145221</td>\n",
       "      <td>103.1332</td>\n",
       "      <td>4</td>\n",
       "      <td>1</td>\n",
       "      <td>2</td>\n",
       "      <td>1.0</td>\n",
       "      <td>2</td>\n",
       "      <td>2</td>\n",
       "    </tr>\n",
       "    <tr>\n",
       "      <th>8522</th>\n",
       "      <td>14.800</td>\n",
       "      <td>0.044878</td>\n",
       "      <td>75.4670</td>\n",
       "      <td>16</td>\n",
       "      <td>0</td>\n",
       "      <td>0</td>\n",
       "      <td>2.0</td>\n",
       "      <td>0</td>\n",
       "      <td>1</td>\n",
       "    </tr>\n",
       "  </tbody>\n",
       "</table>\n",
       "<p>8523 rows × 9 columns</p>\n",
       "</div>"
      ],
      "text/plain": [
       "      Item_Weight  Item_Visibility  Item_MRP  Outlet_age  Item_Identifier  \\\n",
       "0           9.300         0.016047  249.8092          14                1   \n",
       "1           5.920         0.019278   48.2692           4                0   \n",
       "2          17.500         0.016760  141.6180          14                1   \n",
       "3          19.200         0.000000  182.0950          15                1   \n",
       "4           8.930         0.000000   53.8614          26                2   \n",
       "...           ...              ...       ...         ...              ...   \n",
       "8518        6.865         0.056783  214.5218          26                1   \n",
       "8519        8.380         0.046982  108.1570          11                1   \n",
       "8520       10.600         0.035186   85.1224           9                2   \n",
       "8521        7.210         0.145221  103.1332           4                1   \n",
       "8522       14.800         0.044878   75.4670          16                0   \n",
       "\n",
       "      Item_Fat_Content  Outlet_Size  Outlet_Location_Type  Outlet_Type  \n",
       "0                    0          1.0                     0            1  \n",
       "1                    2          1.0                     2            2  \n",
       "2                    0          1.0                     0            1  \n",
       "3                    2          NaN                     2            0  \n",
       "4                    1          0.0                     2            1  \n",
       "...                ...          ...                   ...          ...  \n",
       "8518                 0          0.0                     2            1  \n",
       "8519                 2          NaN                     1            1  \n",
       "8520                 1          2.0                     1            1  \n",
       "8521                 2          1.0                     2            2  \n",
       "8522                 0          2.0                     0            1  \n",
       "\n",
       "[8523 rows x 9 columns]"
      ]
     },
     "execution_count": 144,
     "metadata": {},
     "output_type": "execute_result"
    }
   ],
   "source": [
    "input_feature_train_df = pd.concat([train_num_df,train_cat_df],axis=1)\n",
    "input_feature_train_df"
   ]
  },
  {
   "cell_type": "code",
   "execution_count": 147,
   "id": "3489bc9b",
   "metadata": {},
   "outputs": [
    {
     "data": {
      "text/plain": [
       "<AxesSubplot:xlabel='Item_Visibility', ylabel='Item_Outlet_Sales'>"
      ]
     },
     "execution_count": 147,
     "metadata": {},
     "output_type": "execute_result"
    },
    {
     "data": {
      "image/png": "[encoded data removed]",
      "text/plain": [
       "<Figure size 432x288 with 1 Axes>"
      ]
     },
     "metadata": {
      "needs_background": "light"
     },
     "output_type": "display_data"
    }
   ],
   "source": [
    "# Item Visibility \n",
    "sns.scatterplot(x=input_feature_train_df['Item_Visibility'],y=df_train['Item_Outlet_Sales'])"
   ]
  },
  {
   "cell_type": "code",
   "execution_count": 134,
   "id": "8e13bd23",
   "metadata": {},
   "outputs": [],
   "source": [
    "def get_dats_transformer_object(numerical,categorical):\n",
    "        \n",
    "           \n",
    "\n",
    "            num_pipeline = Pipeline(steps=[\n",
    "                                     ('imputer',KNNImputer(n_neighbors=3, weights='uniform',missing_values=np.nan)),\n",
    "                                     ('scaler',StandardScaler())\n",
    "                                    ])\n",
    "\n",
    "\n",
    "            cat_pipeline = Pipeline(steps=[\n",
    "                                    ('imputer',KNNImputer(n_neighbors=3, weights='uniform',missing_values=np.nan)),\n",
    "                                    \n",
    "                                    ])\n",
    "\n",
    "            preprocessing = ColumnTransformer([\n",
    "                                    ('num_pipeline', num_pipeline, numerical),\n",
    "                                    ('cat_pipeline', cat_pipeline, categorical),\n",
    "            ])\n",
    "\n",
    "\n",
    "\n",
    "            return preprocessing"
   ]
  },
  {
   "cell_type": "code",
   "execution_count": 135,
   "id": "1a11c64a",
   "metadata": {},
   "outputs": [
    {
     "data": {
      "text/plain": [
       "array([[-0.81853286, -0.97073217,  1.74745381, ...,  1.        ,\n",
       "         0.        ,  1.        ],\n",
       "       [-1.59119397, -0.90811123, -1.48902325, ...,  1.        ,\n",
       "         2.        ,  2.        ],\n",
       "       [ 1.05597041, -0.95691733,  0.01004021, ...,  1.        ,\n",
       "         0.        ,  1.        ],\n",
       "       ...,\n",
       "       [-0.52135551, -0.59978449, -0.89720755, ...,  2.        ,\n",
       "         1.        ,  1.        ],\n",
       "       [-1.2963026 ,  1.53287976, -0.60797692, ...,  1.        ,\n",
       "         2.        ,  2.        ],\n",
       "       [ 0.43875592, -0.41193591, -1.05226104, ...,  2.        ,\n",
       "         0.        ,  1.        ]])"
      ]
     },
     "execution_count": 135,
     "metadata": {},
     "output_type": "execute_result"
    }
   ],
   "source": [
    " preprocessing_obj = get_dats_transformer_object(numerical_features_train,categorical_features_train)\n",
    "input_feature_train_array = preprocessing_obj.fit_transform(input_feature_train_df)\n",
    "input_feature_train_array "
   ]
  },
  {
   "cell_type": "code",
   "execution_count": 136,
   "id": "dd3e5ca8",
   "metadata": {},
   "outputs": [],
   "source": [
    "processod_train_df = pd.DataFrame(input_feature_train_array,columns=input_feature_train_df.columns)"
   ]
  },
  {
   "cell_type": "code",
   "execution_count": 137,
   "id": "5c3e27b6",
   "metadata": {},
   "outputs": [
    {
     "data": {
      "text/plain": [
       "<bound method Series.unique of 0       1.0\n",
       "1       0.0\n",
       "2       1.0\n",
       "3       1.0\n",
       "4       2.0\n",
       "       ... \n",
       "8518    1.0\n",
       "8519    1.0\n",
       "8520    2.0\n",
       "8521    1.0\n",
       "8522    0.0\n",
       "Name: Item_Identifier, Length: 8523, dtype: float64>"
      ]
     },
     "execution_count": 137,
     "metadata": {},
     "output_type": "execute_result"
    }
   ],
   "source": [
    "processod_train_df = pd.concat([processod_train_df,target_feature_train_df],axis=1)\n",
    "processod_train_df['Item_Identifier'].unique"
   ]
  },
  {
   "cell_type": "code",
   "execution_count": 138,
   "id": "151a38ca",
   "metadata": {},
   "outputs": [
    {
     "data": {
      "text/html": [
       "<div>\n",
       "<style scoped>\n",
       "    .dataframe tbody tr th:only-of-type {\n",
       "        vertical-align: middle;\n",
       "    }\n",
       "\n",
       "    .dataframe tbody tr th {\n",
       "        vertical-align: top;\n",
       "    }\n",
       "\n",
       "    .dataframe thead th {\n",
       "        text-align: right;\n",
       "    }\n",
       "</style>\n",
       "<table border=\"1\" class=\"dataframe\">\n",
       "  <thead>\n",
       "    <tr style=\"text-align: right;\">\n",
       "      <th></th>\n",
       "      <th>Item_Weight</th>\n",
       "      <th>Item_Visibility</th>\n",
       "      <th>Item_MRP</th>\n",
       "      <th>Outlet_age</th>\n",
       "      <th>Item_Identifier</th>\n",
       "      <th>Item_Fat_Content</th>\n",
       "      <th>Outlet_Size</th>\n",
       "      <th>Outlet_Location_Type</th>\n",
       "      <th>Outlet_Type</th>\n",
       "      <th>Item_Outlet_Sales</th>\n",
       "    </tr>\n",
       "  </thead>\n",
       "  <tbody>\n",
       "    <tr>\n",
       "      <th>0</th>\n",
       "      <td>-0.818533</td>\n",
       "      <td>-0.970732</td>\n",
       "      <td>1.747454</td>\n",
       "      <td>-0.139541</td>\n",
       "      <td>1.0</td>\n",
       "      <td>0.0</td>\n",
       "      <td>1.0</td>\n",
       "      <td>0.0</td>\n",
       "      <td>1.0</td>\n",
       "      <td>3735.1380</td>\n",
       "    </tr>\n",
       "    <tr>\n",
       "      <th>1</th>\n",
       "      <td>-1.591194</td>\n",
       "      <td>-0.908111</td>\n",
       "      <td>-1.489023</td>\n",
       "      <td>-1.334103</td>\n",
       "      <td>0.0</td>\n",
       "      <td>2.0</td>\n",
       "      <td>1.0</td>\n",
       "      <td>2.0</td>\n",
       "      <td>2.0</td>\n",
       "      <td>443.4228</td>\n",
       "    </tr>\n",
       "    <tr>\n",
       "      <th>2</th>\n",
       "      <td>1.055970</td>\n",
       "      <td>-0.956917</td>\n",
       "      <td>0.010040</td>\n",
       "      <td>-0.139541</td>\n",
       "      <td>1.0</td>\n",
       "      <td>0.0</td>\n",
       "      <td>1.0</td>\n",
       "      <td>0.0</td>\n",
       "      <td>1.0</td>\n",
       "      <td>2097.2700</td>\n",
       "    </tr>\n",
       "    <tr>\n",
       "      <th>3</th>\n",
       "      <td>1.444587</td>\n",
       "      <td>-1.281758</td>\n",
       "      <td>0.660050</td>\n",
       "      <td>-0.020085</td>\n",
       "      <td>1.0</td>\n",
       "      <td>2.0</td>\n",
       "      <td>0.0</td>\n",
       "      <td>2.0</td>\n",
       "      <td>0.0</td>\n",
       "      <td>732.3800</td>\n",
       "    </tr>\n",
       "    <tr>\n",
       "      <th>4</th>\n",
       "      <td>-0.903114</td>\n",
       "      <td>-1.281758</td>\n",
       "      <td>-1.399220</td>\n",
       "      <td>1.293934</td>\n",
       "      <td>2.0</td>\n",
       "      <td>1.0</td>\n",
       "      <td>0.0</td>\n",
       "      <td>2.0</td>\n",
       "      <td>1.0</td>\n",
       "      <td>994.7052</td>\n",
       "    </tr>\n",
       "    <tr>\n",
       "      <th>...</th>\n",
       "      <td>...</td>\n",
       "      <td>...</td>\n",
       "      <td>...</td>\n",
       "      <td>...</td>\n",
       "      <td>...</td>\n",
       "      <td>...</td>\n",
       "      <td>...</td>\n",
       "      <td>...</td>\n",
       "      <td>...</td>\n",
       "      <td>...</td>\n",
       "    </tr>\n",
       "    <tr>\n",
       "      <th>8518</th>\n",
       "      <td>-1.375169</td>\n",
       "      <td>-0.181193</td>\n",
       "      <td>1.180783</td>\n",
       "      <td>1.293934</td>\n",
       "      <td>1.0</td>\n",
       "      <td>0.0</td>\n",
       "      <td>0.0</td>\n",
       "      <td>2.0</td>\n",
       "      <td>1.0</td>\n",
       "      <td>2778.3834</td>\n",
       "    </tr>\n",
       "    <tr>\n",
       "      <th>8519</th>\n",
       "      <td>-1.028843</td>\n",
       "      <td>-0.371154</td>\n",
       "      <td>-0.527301</td>\n",
       "      <td>-0.497909</td>\n",
       "      <td>1.0</td>\n",
       "      <td>2.0</td>\n",
       "      <td>2.0</td>\n",
       "      <td>1.0</td>\n",
       "      <td>1.0</td>\n",
       "      <td>549.2850</td>\n",
       "    </tr>\n",
       "    <tr>\n",
       "      <th>8520</th>\n",
       "      <td>-0.521356</td>\n",
       "      <td>-0.599784</td>\n",
       "      <td>-0.897208</td>\n",
       "      <td>-0.736822</td>\n",
       "      <td>2.0</td>\n",
       "      <td>1.0</td>\n",
       "      <td>2.0</td>\n",
       "      <td>1.0</td>\n",
       "      <td>1.0</td>\n",
       "      <td>1193.1136</td>\n",
       "    </tr>\n",
       "    <tr>\n",
       "      <th>8521</th>\n",
       "      <td>-1.296303</td>\n",
       "      <td>1.532880</td>\n",
       "      <td>-0.607977</td>\n",
       "      <td>-1.334103</td>\n",
       "      <td>1.0</td>\n",
       "      <td>2.0</td>\n",
       "      <td>1.0</td>\n",
       "      <td>2.0</td>\n",
       "      <td>2.0</td>\n",
       "      <td>1845.5976</td>\n",
       "    </tr>\n",
       "    <tr>\n",
       "      <th>8522</th>\n",
       "      <td>0.438756</td>\n",
       "      <td>-0.411936</td>\n",
       "      <td>-1.052261</td>\n",
       "      <td>0.099372</td>\n",
       "      <td>0.0</td>\n",
       "      <td>0.0</td>\n",
       "      <td>2.0</td>\n",
       "      <td>0.0</td>\n",
       "      <td>1.0</td>\n",
       "      <td>765.6700</td>\n",
       "    </tr>\n",
       "  </tbody>\n",
       "</table>\n",
       "<p>8523 rows × 10 columns</p>\n",
       "</div>"
      ],
      "text/plain": [
       "      Item_Weight  Item_Visibility  Item_MRP  Outlet_age  Item_Identifier  \\\n",
       "0       -0.818533        -0.970732  1.747454   -0.139541              1.0   \n",
       "1       -1.591194        -0.908111 -1.489023   -1.334103              0.0   \n",
       "2        1.055970        -0.956917  0.010040   -0.139541              1.0   \n",
       "3        1.444587        -1.281758  0.660050   -0.020085              1.0   \n",
       "4       -0.903114        -1.281758 -1.399220    1.293934              2.0   \n",
       "...           ...              ...       ...         ...              ...   \n",
       "8518    -1.375169        -0.181193  1.180783    1.293934              1.0   \n",
       "8519    -1.028843        -0.371154 -0.527301   -0.497909              1.0   \n",
       "8520    -0.521356        -0.599784 -0.897208   -0.736822              2.0   \n",
       "8521    -1.296303         1.532880 -0.607977   -1.334103              1.0   \n",
       "8522     0.438756        -0.411936 -1.052261    0.099372              0.0   \n",
       "\n",
       "      Item_Fat_Content  Outlet_Size  Outlet_Location_Type  Outlet_Type  \\\n",
       "0                  0.0          1.0                   0.0          1.0   \n",
       "1                  2.0          1.0                   2.0          2.0   \n",
       "2                  0.0          1.0                   0.0          1.0   \n",
       "3                  2.0          0.0                   2.0          0.0   \n",
       "4                  1.0          0.0                   2.0          1.0   \n",
       "...                ...          ...                   ...          ...   \n",
       "8518               0.0          0.0                   2.0          1.0   \n",
       "8519               2.0          2.0                   1.0          1.0   \n",
       "8520               1.0          2.0                   1.0          1.0   \n",
       "8521               2.0          1.0                   2.0          2.0   \n",
       "8522               0.0          2.0                   0.0          1.0   \n",
       "\n",
       "      Item_Outlet_Sales  \n",
       "0             3735.1380  \n",
       "1              443.4228  \n",
       "2             2097.2700  \n",
       "3              732.3800  \n",
       "4              994.7052  \n",
       "...                 ...  \n",
       "8518          2778.3834  \n",
       "8519           549.2850  \n",
       "8520          1193.1136  \n",
       "8521          1845.5976  \n",
       "8522           765.6700  \n",
       "\n",
       "[8523 rows x 10 columns]"
      ]
     },
     "execution_count": 138,
     "metadata": {},
     "output_type": "execute_result"
    }
   ],
   "source": [
    "processod_train_df"
   ]
  },
  {
   "cell_type": "code",
   "execution_count": 139,
   "id": "a02c7a6c",
   "metadata": {},
   "outputs": [],
   "source": [
    "from sklearn.linear_model import LinearRegression\n",
    "from sklearn.model_selection import train_test_split\n",
    "from sklearn.ensemble import RandomForestRegressor\n",
    "from xgboost import XGBRegressor\n",
    "from sklearn.metrics import r2_score"
   ]
  },
  {
   "cell_type": "code",
   "execution_count": 140,
   "id": "870f2a89",
   "metadata": {},
   "outputs": [
    {
     "name": "stdout",
     "output_type": "stream",
     "text": [
      "Shape of data:(8523, 10)\n",
      "Shape of X_train:(6818, 9)\n",
      "Shape of y_train:(6818,)\n",
      "Shape of X_test:(1705, 9)\n",
      "Shape of y_test:(1705,)\n",
      "accuracy 0.48858223510568477\n"
     ]
    }
   ],
   "source": [
    "# LinearRegression\n",
    "\n",
    "X = processod_train_df.drop(columns=['Item_Outlet_Sales'])\n",
    "y = processod_train_df['Item_Outlet_Sales']\n",
    "X_train,X_test,y_train,y_test = train_test_split(X,y,test_size=0.2,random_state=22)\n",
    "print(f'Shape of data:{processod_train_df.shape}')\n",
    "print(f'Shape of X_train:{X_train.shape}')\n",
    "print(f'Shape of y_train:{y_train.shape}')\n",
    "print(f'Shape of X_test:{X_test.shape}')\n",
    "print(f'Shape of y_test:{y_test.shape}')\n",
    "LR = LinearRegression()\n",
    "LR.fit(X_train,y_train)\n",
    "y_pred = LR.predict(X_test)\n",
    "\n",
    "R2 = r2_score(y_test,y_pred)\n",
    "print(f'accuracy {R2}')"
   ]
  },
  {
   "cell_type": "code",
   "execution_count": 141,
   "id": "2f916075",
   "metadata": {},
   "outputs": [
    {
     "name": "stdout",
     "output_type": "stream",
     "text": [
      "accuracy 0.5369384226095455\n"
     ]
    }
   ],
   "source": [
    "RF= RandomForestRegressor()\n",
    "RF.fit(X_train,y_train)\n",
    "y_pred = RF.predict(X_test)\n",
    "\n",
    "R2 = r2_score(y_test,y_pred)\n",
    "print(f'accuracy {R2}')"
   ]
  },
  {
   "cell_type": "code",
   "execution_count": 142,
   "id": "24e4dfe4",
   "metadata": {},
   "outputs": [
    {
     "name": "stdout",
     "output_type": "stream",
     "text": [
      "accuracy 0.5004398769021449\n"
     ]
    }
   ],
   "source": [
    "XB = XGBRegressor()\n",
    "XB.fit(X_train,y_train)\n",
    "y_pred = XB.predict(X_test)\n",
    "\n",
    "R2 = r2_score(y_test,y_pred)\n",
    "print(f'accuracy {R2}')"
   ]
  },
  {
   "cell_type": "code",
   "execution_count": null,
   "id": "58803549",
   "metadata": {},
   "outputs": [],
   "source": []
  }
 ],
 "metadata": {
  "kernelspec": {
   "display_name": "Python 3 (ipykernel)",
   "language": "python",
   "name": "python3"
  },
  "language_info": {
   "codemirror_mode": {
    "name": "ipython",
    "version": 3
   },
   "file_extension": ".py",
   "mimetype": "text/x-python",
   "name": "python",
   "nbconvert_exporter": "python",
   "pygments_lexer": "ipython3",
   "version": "3.7.0"
  }
 },
 "nbformat": 4,
 "nbformat_minor": 5
}
