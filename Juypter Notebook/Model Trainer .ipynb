{
 "cells": [
  {
   "cell_type": "markdown",
   "id": "93fd5e51",
   "metadata": {},
   "source": [
    "# Pipeline of Model Trainer \n",
    "1. Do clustering \n",
    "2. Train model and test it "
   ]
  },
  {
   "cell_type": "code",
   "execution_count": 1,
   "id": "fa6f88fd",
   "metadata": {},
   "outputs": [],
   "source": [
    "# Importing Required Libraries \n",
    "import os, sys\n",
    "import pandas as pd \n",
    "import numpy as np\n",
    "import seaborn as sns\n",
    "import matplotlib.pyplot as plt \n",
    "%matplotlib inline \n",
    "\n",
    "import warnings\n",
    "warnings.filterwarnings('always')\n",
    "warnings.filterwarnings('ignore')\n",
    "\n",
    "from sklearn.model_selection import train_test_split\n",
    "from sklearn.cluster import KMeans\n",
    "from kneed import KneeLocator\n"
   ]
  },
  {
   "cell_type": "code",
   "execution_count": 2,
   "id": "9f46048f",
   "metadata": {},
   "outputs": [],
   "source": [
    "# Clustering on data \n",
    "df = pd.read_csv(\"D:\\Projects_new\\Stores_Sales_Prediction\\Juypter Notebook\\Processod_data.csv\")"
   ]
  },
  {
   "cell_type": "code",
   "execution_count": 3,
   "id": "ffdf6600",
   "metadata": {},
   "outputs": [],
   "source": [
    "df['Outlet_Size'] = df['Outlet_Size'].apply(lambda x : round(x,0))"
   ]
  },
  {
   "cell_type": "code",
   "execution_count": 4,
   "id": "875d3a1f",
   "metadata": {},
   "outputs": [],
   "source": [
    "data = df.copy()"
   ]
  },
  {
   "cell_type": "code",
   "execution_count": 5,
   "id": "d42b4a43",
   "metadata": {},
   "outputs": [],
   "source": [
    "wcss = []\n",
    "\n",
    "for i in range(1,11):\n",
    "    kmeans = KMeans(n_clusters=i,random_state=42)\n",
    "    kmeans.fit(data)\n",
    "    wcss.append(kmeans.inertia_)"
   ]
  },
  {
   "cell_type": "code",
   "execution_count": 6,
   "id": "fddf44f2",
   "metadata": {},
   "outputs": [
    {
     "data": {
      "text/plain": [
       "[76410968344.13144,\n",
       " 37714942516.2593,\n",
       " 27272418530.06307,\n",
       " 21158496642.91055,\n",
       " 15700201598.045494,\n",
       " 13707429254.014542,\n",
       " 11937341743.320385,\n",
       " 10370939676.144354,\n",
       " 8959765598.497227,\n",
       " 8175849019.673341]"
      ]
     },
     "execution_count": 6,
     "metadata": {},
     "output_type": "execute_result"
    }
   ],
   "source": [
    "wcss"
   ]
  },
  {
   "cell_type": "code",
   "execution_count": 7,
   "id": "8a71abd7",
   "metadata": {},
   "outputs": [
    {
     "data": {
      "text/plain": [
       "[<matplotlib.lines.Line2D at 0x1063085e710>]"
      ]
     },
     "execution_count": 7,
     "metadata": {},
     "output_type": "execute_result"
    },
    {
     "data": {
      "image/png": "[encoded data removed]",
      "text/plain": [
       "<Figure size 432x288 with 1 Axes>"
      ]
     },
     "metadata": {
      "needs_background": "light"
     },
     "output_type": "display_data"
    }
   ],
   "source": [
    "plt.plot(range(1,11),wcss)"
   ]
  },
  {
   "cell_type": "markdown",
   "id": "6ac2c037",
   "metadata": {},
   "source": [
    "! pip install kneed"
   ]
  },
  {
   "cell_type": "code",
   "execution_count": 8,
   "id": "165cb1c3",
   "metadata": {},
   "outputs": [],
   "source": [
    "kn = KneeLocator(range(1,11),wcss,curve='convex',direction='decreasing')"
   ]
  },
  {
   "cell_type": "code",
   "execution_count": 9,
   "id": "ebb5d6f0",
   "metadata": {},
   "outputs": [],
   "source": [
    "Total_cluster = kn.knee"
   ]
  },
  {
   "cell_type": "code",
   "execution_count": 10,
   "id": "4831e60e",
   "metadata": {},
   "outputs": [],
   "source": [
    "kmean = KMeans(n_clusters=Total_cluster,random_state=42)\n",
    "cluster = kmean.fit_predict(data)\n",
    "data['cluster'] = cluster"
   ]
  },
  {
   "cell_type": "code",
   "execution_count": 11,
   "id": "826a6ad4",
   "metadata": {},
   "outputs": [
    {
     "data": {
      "text/plain": [
       "array([1, 2, 0])"
      ]
     },
     "execution_count": 11,
     "metadata": {},
     "output_type": "execute_result"
    }
   ],
   "source": [
    "data['cluster'].unique()"
   ]
  },
  {
   "cell_type": "code",
   "execution_count": 12,
   "id": "c0ae62b3",
   "metadata": {},
   "outputs": [],
   "source": [
    "data.drop(['Unnamed: 0'],axis=1,inplace = True)"
   ]
  },
  {
   "cell_type": "code",
   "execution_count": 13,
   "id": "a7779a38",
   "metadata": {},
   "outputs": [
    {
     "data": {
      "text/html": [
       "<div>\n",
       "<style scoped>\n",
       "    .dataframe tbody tr th:only-of-type {\n",
       "        vertical-align: middle;\n",
       "    }\n",
       "\n",
       "    .dataframe tbody tr th {\n",
       "        vertical-align: top;\n",
       "    }\n",
       "\n",
       "    .dataframe thead th {\n",
       "        text-align: right;\n",
       "    }\n",
       "</style>\n",
       "<table border=\"1\" class=\"dataframe\">\n",
       "  <thead>\n",
       "    <tr style=\"text-align: right;\">\n",
       "      <th></th>\n",
       "      <th>Item_Weight</th>\n",
       "      <th>Item_Visibility</th>\n",
       "      <th>Item_MRP</th>\n",
       "      <th>Age_Outlet</th>\n",
       "      <th>Item_Identifier</th>\n",
       "      <th>Item_Fat_Content</th>\n",
       "      <th>Outlet_Size</th>\n",
       "      <th>Outlet_Location_Type</th>\n",
       "      <th>Outlet_Type</th>\n",
       "      <th>Item_Outlet_Sales</th>\n",
       "      <th>cluster</th>\n",
       "    </tr>\n",
       "  </thead>\n",
       "  <tbody>\n",
       "    <tr>\n",
       "      <th>0</th>\n",
       "      <td>-0.808326</td>\n",
       "      <td>-1.111358</td>\n",
       "      <td>1.747454</td>\n",
       "      <td>-0.139541</td>\n",
       "      <td>1.0</td>\n",
       "      <td>0.0</td>\n",
       "      <td>1.0</td>\n",
       "      <td>0.0</td>\n",
       "      <td>1.0</td>\n",
       "      <td>3735.1380</td>\n",
       "      <td>1</td>\n",
       "    </tr>\n",
       "    <tr>\n",
       "      <th>1</th>\n",
       "      <td>-1.581672</td>\n",
       "      <td>-1.045067</td>\n",
       "      <td>-1.489023</td>\n",
       "      <td>-1.334103</td>\n",
       "      <td>0.0</td>\n",
       "      <td>2.0</td>\n",
       "      <td>1.0</td>\n",
       "      <td>2.0</td>\n",
       "      <td>2.0</td>\n",
       "      <td>443.4228</td>\n",
       "      <td>1</td>\n",
       "    </tr>\n",
       "    <tr>\n",
       "      <th>2</th>\n",
       "      <td>1.067837</td>\n",
       "      <td>-1.096733</td>\n",
       "      <td>0.010040</td>\n",
       "      <td>-0.139541</td>\n",
       "      <td>1.0</td>\n",
       "      <td>0.0</td>\n",
       "      <td>1.0</td>\n",
       "      <td>0.0</td>\n",
       "      <td>1.0</td>\n",
       "      <td>2097.2700</td>\n",
       "      <td>1</td>\n",
       "    </tr>\n",
       "    <tr>\n",
       "      <th>3</th>\n",
       "      <td>1.456798</td>\n",
       "      <td>-0.083740</td>\n",
       "      <td>0.660050</td>\n",
       "      <td>-0.020085</td>\n",
       "      <td>1.0</td>\n",
       "      <td>2.0</td>\n",
       "      <td>2.0</td>\n",
       "      <td>2.0</td>\n",
       "      <td>0.0</td>\n",
       "      <td>732.3800</td>\n",
       "      <td>1</td>\n",
       "    </tr>\n",
       "    <tr>\n",
       "      <th>4</th>\n",
       "      <td>-0.892983</td>\n",
       "      <td>-0.083740</td>\n",
       "      <td>-1.399220</td>\n",
       "      <td>1.293934</td>\n",
       "      <td>2.0</td>\n",
       "      <td>1.0</td>\n",
       "      <td>0.0</td>\n",
       "      <td>2.0</td>\n",
       "      <td>1.0</td>\n",
       "      <td>994.7052</td>\n",
       "      <td>1</td>\n",
       "    </tr>\n",
       "    <tr>\n",
       "      <th>...</th>\n",
       "      <td>...</td>\n",
       "      <td>...</td>\n",
       "      <td>...</td>\n",
       "      <td>...</td>\n",
       "      <td>...</td>\n",
       "      <td>...</td>\n",
       "      <td>...</td>\n",
       "      <td>...</td>\n",
       "      <td>...</td>\n",
       "      <td>...</td>\n",
       "      <td>...</td>\n",
       "    </tr>\n",
       "    <tr>\n",
       "      <th>8518</th>\n",
       "      <td>-1.365456</td>\n",
       "      <td>-0.275551</td>\n",
       "      <td>1.180783</td>\n",
       "      <td>1.293934</td>\n",
       "      <td>1.0</td>\n",
       "      <td>0.0</td>\n",
       "      <td>0.0</td>\n",
       "      <td>2.0</td>\n",
       "      <td>1.0</td>\n",
       "      <td>2778.3834</td>\n",
       "      <td>0</td>\n",
       "    </tr>\n",
       "    <tr>\n",
       "      <th>8519</th>\n",
       "      <td>-1.018823</td>\n",
       "      <td>-0.476643</td>\n",
       "      <td>-0.527301</td>\n",
       "      <td>-0.497909</td>\n",
       "      <td>1.0</td>\n",
       "      <td>2.0</td>\n",
       "      <td>1.0</td>\n",
       "      <td>1.0</td>\n",
       "      <td>1.0</td>\n",
       "      <td>549.2850</td>\n",
       "      <td>0</td>\n",
       "    </tr>\n",
       "    <tr>\n",
       "      <th>8520</th>\n",
       "      <td>-0.510886</td>\n",
       "      <td>-0.718672</td>\n",
       "      <td>-0.897208</td>\n",
       "      <td>-0.736822</td>\n",
       "      <td>2.0</td>\n",
       "      <td>1.0</td>\n",
       "      <td>2.0</td>\n",
       "      <td>1.0</td>\n",
       "      <td>1.0</td>\n",
       "      <td>1193.1136</td>\n",
       "      <td>0</td>\n",
       "    </tr>\n",
       "    <tr>\n",
       "      <th>8521</th>\n",
       "      <td>-1.286519</td>\n",
       "      <td>1.538968</td>\n",
       "      <td>-0.607977</td>\n",
       "      <td>-1.334103</td>\n",
       "      <td>1.0</td>\n",
       "      <td>2.0</td>\n",
       "      <td>1.0</td>\n",
       "      <td>2.0</td>\n",
       "      <td>2.0</td>\n",
       "      <td>1845.5976</td>\n",
       "      <td>0</td>\n",
       "    </tr>\n",
       "    <tr>\n",
       "      <th>8522</th>\n",
       "      <td>0.450076</td>\n",
       "      <td>-0.519816</td>\n",
       "      <td>-1.052261</td>\n",
       "      <td>0.099372</td>\n",
       "      <td>0.0</td>\n",
       "      <td>0.0</td>\n",
       "      <td>2.0</td>\n",
       "      <td>0.0</td>\n",
       "      <td>1.0</td>\n",
       "      <td>765.6700</td>\n",
       "      <td>0</td>\n",
       "    </tr>\n",
       "  </tbody>\n",
       "</table>\n",
       "<p>8523 rows × 11 columns</p>\n",
       "</div>"
      ],
      "text/plain": [
       "      Item_Weight  Item_Visibility  Item_MRP  Age_Outlet  Item_Identifier  \\\n",
       "0       -0.808326        -1.111358  1.747454   -0.139541              1.0   \n",
       "1       -1.581672        -1.045067 -1.489023   -1.334103              0.0   \n",
       "2        1.067837        -1.096733  0.010040   -0.139541              1.0   \n",
       "3        1.456798        -0.083740  0.660050   -0.020085              1.0   \n",
       "4       -0.892983        -0.083740 -1.399220    1.293934              2.0   \n",
       "...           ...              ...       ...         ...              ...   \n",
       "8518    -1.365456        -0.275551  1.180783    1.293934              1.0   \n",
       "8519    -1.018823        -0.476643 -0.527301   -0.497909              1.0   \n",
       "8520    -0.510886        -0.718672 -0.897208   -0.736822              2.0   \n",
       "8521    -1.286519         1.538968 -0.607977   -1.334103              1.0   \n",
       "8522     0.450076        -0.519816 -1.052261    0.099372              0.0   \n",
       "\n",
       "      Item_Fat_Content  Outlet_Size  Outlet_Location_Type  Outlet_Type  \\\n",
       "0                  0.0          1.0                   0.0          1.0   \n",
       "1                  2.0          1.0                   2.0          2.0   \n",
       "2                  0.0          1.0                   0.0          1.0   \n",
       "3                  2.0          2.0                   2.0          0.0   \n",
       "4                  1.0          0.0                   2.0          1.0   \n",
       "...                ...          ...                   ...          ...   \n",
       "8518               0.0          0.0                   2.0          1.0   \n",
       "8519               2.0          1.0                   1.0          1.0   \n",
       "8520               1.0          2.0                   1.0          1.0   \n",
       "8521               2.0          1.0                   2.0          2.0   \n",
       "8522               0.0          2.0                   0.0          1.0   \n",
       "\n",
       "      Item_Outlet_Sales  cluster  \n",
       "0             3735.1380        1  \n",
       "1              443.4228        1  \n",
       "2             2097.2700        1  \n",
       "3              732.3800        1  \n",
       "4              994.7052        1  \n",
       "...                 ...      ...  \n",
       "8518          2778.3834        0  \n",
       "8519           549.2850        0  \n",
       "8520          1193.1136        0  \n",
       "8521          1845.5976        0  \n",
       "8522           765.6700        0  \n",
       "\n",
       "[8523 rows x 11 columns]"
      ]
     },
     "execution_count": 13,
     "metadata": {},
     "output_type": "execute_result"
    }
   ],
   "source": [
    "data"
   ]
  },
  {
   "cell_type": "code",
   "execution_count": 14,
   "id": "2c7e2f87",
   "metadata": {},
   "outputs": [],
   "source": [
    "data['Item_Outlet_Sales']\n",
    "# X = data.drop(['Item_Outlet_Sales','cluster'],axis=1)\n",
    "X_with_cluster = data.drop(['Item_Outlet_Sales'],axis=1)\n",
    "y = data['Item_Outlet_Sales']"
   ]
  },
  {
   "cell_type": "code",
   "execution_count": 16,
   "id": "bf20f985",
   "metadata": {},
   "outputs": [
    {
     "data": {
      "text/html": [
       "<div>\n",
       "<style scoped>\n",
       "    .dataframe tbody tr th:only-of-type {\n",
       "        vertical-align: middle;\n",
       "    }\n",
       "\n",
       "    .dataframe tbody tr th {\n",
       "        vertical-align: top;\n",
       "    }\n",
       "\n",
       "    .dataframe thead th {\n",
       "        text-align: right;\n",
       "    }\n",
       "</style>\n",
       "<table border=\"1\" class=\"dataframe\">\n",
       "  <thead>\n",
       "    <tr style=\"text-align: right;\">\n",
       "      <th></th>\n",
       "      <th>Item_Weight</th>\n",
       "      <th>Item_Visibility</th>\n",
       "      <th>Item_MRP</th>\n",
       "      <th>Age_Outlet</th>\n",
       "      <th>Item_Identifier</th>\n",
       "      <th>Item_Fat_Content</th>\n",
       "      <th>Outlet_Size</th>\n",
       "      <th>Outlet_Location_Type</th>\n",
       "      <th>Outlet_Type</th>\n",
       "      <th>cluster</th>\n",
       "    </tr>\n",
       "  </thead>\n",
       "  <tbody>\n",
       "    <tr>\n",
       "      <th>0</th>\n",
       "      <td>-0.808326</td>\n",
       "      <td>-1.111358</td>\n",
       "      <td>1.747454</td>\n",
       "      <td>-0.139541</td>\n",
       "      <td>1.0</td>\n",
       "      <td>0.0</td>\n",
       "      <td>1.0</td>\n",
       "      <td>0.0</td>\n",
       "      <td>1.0</td>\n",
       "      <td>1</td>\n",
       "    </tr>\n",
       "    <tr>\n",
       "      <th>1</th>\n",
       "      <td>-1.581672</td>\n",
       "      <td>-1.045067</td>\n",
       "      <td>-1.489023</td>\n",
       "      <td>-1.334103</td>\n",
       "      <td>0.0</td>\n",
       "      <td>2.0</td>\n",
       "      <td>1.0</td>\n",
       "      <td>2.0</td>\n",
       "      <td>2.0</td>\n",
       "      <td>1</td>\n",
       "    </tr>\n",
       "    <tr>\n",
       "      <th>2</th>\n",
       "      <td>1.067837</td>\n",
       "      <td>-1.096733</td>\n",
       "      <td>0.010040</td>\n",
       "      <td>-0.139541</td>\n",
       "      <td>1.0</td>\n",
       "      <td>0.0</td>\n",
       "      <td>1.0</td>\n",
       "      <td>0.0</td>\n",
       "      <td>1.0</td>\n",
       "      <td>1</td>\n",
       "    </tr>\n",
       "    <tr>\n",
       "      <th>3</th>\n",
       "      <td>1.456798</td>\n",
       "      <td>-0.083740</td>\n",
       "      <td>0.660050</td>\n",
       "      <td>-0.020085</td>\n",
       "      <td>1.0</td>\n",
       "      <td>2.0</td>\n",
       "      <td>2.0</td>\n",
       "      <td>2.0</td>\n",
       "      <td>0.0</td>\n",
       "      <td>1</td>\n",
       "    </tr>\n",
       "    <tr>\n",
       "      <th>4</th>\n",
       "      <td>-0.892983</td>\n",
       "      <td>-0.083740</td>\n",
       "      <td>-1.399220</td>\n",
       "      <td>1.293934</td>\n",
       "      <td>2.0</td>\n",
       "      <td>1.0</td>\n",
       "      <td>0.0</td>\n",
       "      <td>2.0</td>\n",
       "      <td>1.0</td>\n",
       "      <td>1</td>\n",
       "    </tr>\n",
       "    <tr>\n",
       "      <th>...</th>\n",
       "      <td>...</td>\n",
       "      <td>...</td>\n",
       "      <td>...</td>\n",
       "      <td>...</td>\n",
       "      <td>...</td>\n",
       "      <td>...</td>\n",
       "      <td>...</td>\n",
       "      <td>...</td>\n",
       "      <td>...</td>\n",
       "      <td>...</td>\n",
       "    </tr>\n",
       "    <tr>\n",
       "      <th>8518</th>\n",
       "      <td>-1.365456</td>\n",
       "      <td>-0.275551</td>\n",
       "      <td>1.180783</td>\n",
       "      <td>1.293934</td>\n",
       "      <td>1.0</td>\n",
       "      <td>0.0</td>\n",
       "      <td>0.0</td>\n",
       "      <td>2.0</td>\n",
       "      <td>1.0</td>\n",
       "      <td>0</td>\n",
       "    </tr>\n",
       "    <tr>\n",
       "      <th>8519</th>\n",
       "      <td>-1.018823</td>\n",
       "      <td>-0.476643</td>\n",
       "      <td>-0.527301</td>\n",
       "      <td>-0.497909</td>\n",
       "      <td>1.0</td>\n",
       "      <td>2.0</td>\n",
       "      <td>1.0</td>\n",
       "      <td>1.0</td>\n",
       "      <td>1.0</td>\n",
       "      <td>0</td>\n",
       "    </tr>\n",
       "    <tr>\n",
       "      <th>8520</th>\n",
       "      <td>-0.510886</td>\n",
       "      <td>-0.718672</td>\n",
       "      <td>-0.897208</td>\n",
       "      <td>-0.736822</td>\n",
       "      <td>2.0</td>\n",
       "      <td>1.0</td>\n",
       "      <td>2.0</td>\n",
       "      <td>1.0</td>\n",
       "      <td>1.0</td>\n",
       "      <td>0</td>\n",
       "    </tr>\n",
       "    <tr>\n",
       "      <th>8521</th>\n",
       "      <td>-1.286519</td>\n",
       "      <td>1.538968</td>\n",
       "      <td>-0.607977</td>\n",
       "      <td>-1.334103</td>\n",
       "      <td>1.0</td>\n",
       "      <td>2.0</td>\n",
       "      <td>1.0</td>\n",
       "      <td>2.0</td>\n",
       "      <td>2.0</td>\n",
       "      <td>0</td>\n",
       "    </tr>\n",
       "    <tr>\n",
       "      <th>8522</th>\n",
       "      <td>0.450076</td>\n",
       "      <td>-0.519816</td>\n",
       "      <td>-1.052261</td>\n",
       "      <td>0.099372</td>\n",
       "      <td>0.0</td>\n",
       "      <td>0.0</td>\n",
       "      <td>2.0</td>\n",
       "      <td>0.0</td>\n",
       "      <td>1.0</td>\n",
       "      <td>0</td>\n",
       "    </tr>\n",
       "  </tbody>\n",
       "</table>\n",
       "<p>8523 rows × 10 columns</p>\n",
       "</div>"
      ],
      "text/plain": [
       "      Item_Weight  Item_Visibility  Item_MRP  Age_Outlet  Item_Identifier  \\\n",
       "0       -0.808326        -1.111358  1.747454   -0.139541              1.0   \n",
       "1       -1.581672        -1.045067 -1.489023   -1.334103              0.0   \n",
       "2        1.067837        -1.096733  0.010040   -0.139541              1.0   \n",
       "3        1.456798        -0.083740  0.660050   -0.020085              1.0   \n",
       "4       -0.892983        -0.083740 -1.399220    1.293934              2.0   \n",
       "...           ...              ...       ...         ...              ...   \n",
       "8518    -1.365456        -0.275551  1.180783    1.293934              1.0   \n",
       "8519    -1.018823        -0.476643 -0.527301   -0.497909              1.0   \n",
       "8520    -0.510886        -0.718672 -0.897208   -0.736822              2.0   \n",
       "8521    -1.286519         1.538968 -0.607977   -1.334103              1.0   \n",
       "8522     0.450076        -0.519816 -1.052261    0.099372              0.0   \n",
       "\n",
       "      Item_Fat_Content  Outlet_Size  Outlet_Location_Type  Outlet_Type  \\\n",
       "0                  0.0          1.0                   0.0          1.0   \n",
       "1                  2.0          1.0                   2.0          2.0   \n",
       "2                  0.0          1.0                   0.0          1.0   \n",
       "3                  2.0          2.0                   2.0          0.0   \n",
       "4                  1.0          0.0                   2.0          1.0   \n",
       "...                ...          ...                   ...          ...   \n",
       "8518               0.0          0.0                   2.0          1.0   \n",
       "8519               2.0          1.0                   1.0          1.0   \n",
       "8520               1.0          2.0                   1.0          1.0   \n",
       "8521               2.0          1.0                   2.0          2.0   \n",
       "8522               0.0          2.0                   0.0          1.0   \n",
       "\n",
       "      cluster  \n",
       "0           1  \n",
       "1           1  \n",
       "2           1  \n",
       "3           1  \n",
       "4           1  \n",
       "...       ...  \n",
       "8518        0  \n",
       "8519        0  \n",
       "8520        0  \n",
       "8521        0  \n",
       "8522        0  \n",
       "\n",
       "[8523 rows x 10 columns]"
      ]
     },
     "execution_count": 16,
     "metadata": {},
     "output_type": "execute_result"
    }
   ],
   "source": [
    "X_with_cluster"
   ]
  },
  {
   "cell_type": "code",
   "execution_count": 18,
   "id": "c7813250",
   "metadata": {},
   "outputs": [
    {
     "data": {
      "text/plain": [
       "1704.6000000000001"
      ]
     },
     "execution_count": 18,
     "metadata": {},
     "output_type": "execute_result"
    }
   ],
   "source": [
    "8523*0.2"
   ]
  },
  {
   "cell_type": "code",
   "execution_count": 80,
   "id": "28ce6c2e",
   "metadata": {},
   "outputs": [],
   "source": [
    "X_train, X_test, y_train, y_test = train_test_split(X, y, test_size=0.20, random_state=42)"
   ]
  },
  {
   "cell_type": "code",
   "execution_count": 17,
   "id": "d396f65e",
   "metadata": {},
   "outputs": [],
   "source": [
    "X_train, X_test, y_train, y_test = train_test_split(X_with_cluster, y, test_size=0.20, random_state=42)"
   ]
  },
  {
   "cell_type": "code",
   "execution_count": 81,
   "id": "c3b37676",
   "metadata": {},
   "outputs": [
    {
     "data": {
      "text/plain": [
       "0.5237811906465029"
      ]
     },
     "execution_count": 81,
     "metadata": {},
     "output_type": "execute_result"
    }
   ],
   "source": [
    "# X_without Cluster \n",
    "from sklearn.linear_model import LinearRegression\n",
    "linear = LinearRegression()\n",
    "linear.fit(X_train,y_train)\n",
    "y_pred = linear.predict(X_test)\n",
    "\n",
    "from sklearn.metrics import r2_score\n",
    "r = r2_score(y_test,y_pred)\n",
    "r"
   ]
  },
  {
   "cell_type": "code",
   "execution_count": 18,
   "id": "0edd7cb7",
   "metadata": {},
   "outputs": [
    {
     "data": {
      "text/plain": [
       "0.619392838001253"
      ]
     },
     "execution_count": 18,
     "metadata": {},
     "output_type": "execute_result"
    }
   ],
   "source": [
    "# X_with Cluster \n",
    "from sklearn.linear_model import LinearRegression\n",
    "linear = LinearRegression()\n",
    "linear.fit(X_train,y_train)\n",
    "y_pred = linear.predict(X_test)\n",
    "\n",
    "from sklearn.metrics import r2_score\n",
    "r = r2_score(y_test,y_pred)\n",
    "r"
   ]
  },
  {
   "cell_type": "code",
   "execution_count": 21,
   "id": "f0013390",
   "metadata": {},
   "outputs": [
    {
     "data": {
      "text/plain": [
       "0.7399439409840962"
      ]
     },
     "execution_count": 21,
     "metadata": {},
     "output_type": "execute_result"
    }
   ],
   "source": [
    "from sklearn.ensemble import RandomForestRegressor\n",
    "rf = RandomForestRegressor()\n",
    "rf.fit(X_train,y_train)\n",
    "y_pred = rf.predict(X_test)\n",
    "\n",
    "r = r2_score(y_test,y_pred)\n",
    "r"
   ]
  },
  {
   "cell_type": "code",
   "execution_count": 19,
   "id": "3164cea0",
   "metadata": {},
   "outputs": [
    {
     "data": {
      "text/plain": [
       "0.740572566334619"
      ]
     },
     "execution_count": 19,
     "metadata": {},
     "output_type": "execute_result"
    }
   ],
   "source": [
    "# X_with Cluster \n",
    "from sklearn.ensemble import RandomForestRegressor\n",
    "rf = RandomForestRegressor()\n",
    "rf.fit(X_train,y_train)\n",
    "y_pred = rf.predict(X_test)\n",
    "\n",
    "r = r2_score(y_test,y_pred)\n",
    "r"
   ]
  },
  {
   "cell_type": "code",
   "execution_count": 22,
   "id": "3e8f0c14",
   "metadata": {},
   "outputs": [],
   "source": [
    "from sklearn.model_selection import cross_val_score\n",
    "scoresrf = cross_val_score(RandomForestRegressor(),X,y,cv=5)\n"
   ]
  },
  {
   "cell_type": "code",
   "execution_count": 23,
   "id": "25327aca",
   "metadata": {},
   "outputs": [
    {
     "data": {
      "text/plain": [
       "array([0.73280451, 0.77341576, 0.65346312, 0.76700713, 0.67536219])"
      ]
     },
     "execution_count": 23,
     "metadata": {},
     "output_type": "execute_result"
    }
   ],
   "source": [
    "scoresrf"
   ]
  },
  {
   "cell_type": "code",
   "execution_count": 24,
   "id": "87325611",
   "metadata": {},
   "outputs": [
    {
     "name": "stdout",
     "output_type": "stream",
     "text": [
      "0.73\n",
      "0.77\n",
      "0.65\n",
      "0.77\n",
      "0.68\n",
      "Average score 0.72\n"
     ]
    }
   ],
   "source": [
    "for i in scoresrf:\n",
    "    print(round(i,2))\n",
    "print(f'Average score {round(scoresrf.mean(),2)}')"
   ]
  },
  {
   "cell_type": "code",
   "execution_count": 25,
   "id": "1a12652d",
   "metadata": {},
   "outputs": [],
   "source": [
    "scoreslr = cross_val_score(LinearRegression(),X,y,cv=5)"
   ]
  },
  {
   "cell_type": "code",
   "execution_count": 26,
   "id": "04188c83",
   "metadata": {},
   "outputs": [
    {
     "name": "stdout",
     "output_type": "stream",
     "text": [
      "0.59\n",
      "0.57\n",
      "0.6\n",
      "0.65\n",
      "0.48\n",
      "Average score 0.58\n"
     ]
    }
   ],
   "source": [
    "for i in scoreslr:\n",
    "    print(round(i,2))\n",
    "print(f'Average score {round(scoreslr.mean(),2)}')"
   ]
  },
  {
   "cell_type": "code",
   "execution_count": 32,
   "id": "9fb25132",
   "metadata": {},
   "outputs": [
    {
     "data": {
      "text/plain": [
       "0.7311328328610374"
      ]
     },
     "execution_count": 32,
     "metadata": {},
     "output_type": "execute_result"
    }
   ],
   "source": [
    "from xgboost import XGBRegressor\n",
    "xg = XGBRegressor()\n",
    "xg.fit(X_train,y_train)\n",
    "y_pred = xg.predict(X_test)\n",
    "\n",
    "r = r2_score(y_test,y_pred)\n",
    "r"
   ]
  },
  {
   "cell_type": "code",
   "execution_count": 28,
   "id": "55df27aa",
   "metadata": {},
   "outputs": [
    {
     "data": {
      "text/plain": [
       "[0.01, 0.02, 0.03, 0.04, 0.05, 0.06, 0.07, 0.08, 0.09]"
      ]
     },
     "execution_count": 28,
     "metadata": {},
     "output_type": "execute_result"
    }
   ],
   "source": [
    "a = [i/100 for i in range(1,10)]\n",
    "a"
   ]
  },
  {
   "cell_type": "code",
   "execution_count": 31,
   "id": "8b95b42d",
   "metadata": {},
   "outputs": [
    {
     "data": {
      "text/plain": [
       "0.09989947464797633"
      ]
     },
     "execution_count": 31,
     "metadata": {},
     "output_type": "execute_result"
    }
   ],
   "source": [
    "best_params = {'alpha': 0.1,\n",
    " 'colsample_bytree': 0.82,\n",
    " 'eta': 0.01,\n",
    " 'gamma': 0.1,\n",
    " 'max_depth': 4,\n",
    " 'n_estimators': 65,\n",
    " 'subsample': 0.9}\n",
    "\n",
    "\n",
    "eta=best_params['eta']\n",
    "max_depth=best_params['max_depth']\n",
    "gamma=best_params['gamma']\n",
    "subsample=best_params['subsample']\n",
    "colsample_bytree=best_params['colsample_bytree']\n",
    "alpha=best_params['eta']\n",
    "n_estimators=best_params['n_estimators']\n",
    "\n",
    "model=XGBRegressor(objective='reg:squarederror', eta=eta, max_depth=max_depth,  gamma=gamma, subsample=subsample, colsample_bytree=colsample_bytree, alpha=alpha, n_estimators=n_estimators)\n",
    "model.fit(X_train, y_train)\n",
    "y_pred=model.predict(X_test)\n",
    "\n",
    "r2=r2_score(y_test, y_pred)\n",
    "r2"
   ]
  },
  {
   "cell_type": "code",
   "execution_count": null,
   "id": "bc7a76fd",
   "metadata": {},
   "outputs": [],
   "source": [
    "\n",
    "pramrf = {'n_estimators':range(10,100,5),\n",
    "        'criterion':[\"squared_error\", \"absolute_error\"],\n",
    "       'max_depth':range(3,10,1),\n",
    "        'max_features':[i/100.0 for i in range(70,100,3)],\n",
    "        'max_samples':[i/100.0 for i in range(70,100,5)]\n",
    "       }\n",
    "\n",
    "pramxg = {'eta' : [i/100 for i in range(1,10)],\n",
    "          'max_depth' : range(3,10,1),\n",
    "          'gamma' : [i/10 for i in range(1,10)],\n",
    "          'subsample':[i/100.0 for i in range(70,100,5)],\n",
    "          'colsample_bytree':[i/100.0 for i in range(70,100,3)],\n",
    "          'alpha' : np.arange(0.1, 10, 0.1),\n",
    "          'n_estimators':range(10,100,5)\n",
    "          }\n",
    "\n"
   ]
  },
  {
   "cell_type": "code",
   "execution_count": null,
   "id": "708c0521",
   "metadata": {},
   "outputs": [],
   "source": [
    "\n",
    "gridxg  = GridSearchCV(XGBRegressor(objective='reg:squarederror'), paramxg, cv=5, n_jobs=-1)\n",
    "gridxg.fit(X_train,y_train)\n",
    "gridxg.best_params_"
   ]
  },
  {
   "cell_type": "code",
   "execution_count": null,
   "id": "12d94ada",
   "metadata": {},
   "outputs": [],
   "source": [
    "\n",
    "gridrf  = GridSearchCV(RandomForestRegressor(), paramrf, cv=5, n_jobs=-1)\n",
    "gridrf.fit(X_train,y_train)\n",
    "gridrf.best_params_"
   ]
  },
  {
   "cell_type": "code",
   "execution_count": 36,
   "id": "e733a3d3",
   "metadata": {},
   "outputs": [],
   "source": [
    "best_paramsRF = {'criterion': 'absolute_error',\n",
    " 'max_depth': 7,\n",
    " 'max_features': 0.79,\n",
    " 'max_samples': 0.7,\n",
    " 'n_estimators': 75}\n",
    "\n",
    "best_paramsXG = {'alpha': 0.1,\n",
    " 'colsample_bytree': 0.82,\n",
    " 'eta': 0.01,\n",
    " 'gamma': 0.1,\n",
    " 'max_depth': 4,\n",
    " 'n_estimators': 65,\n",
    " 'subsample': 0.9}"
   ]
  },
  {
   "cell_type": "code",
   "execution_count": 49,
   "id": "fdaff1a5",
   "metadata": {},
   "outputs": [
    {
     "name": "stdout",
     "output_type": "stream",
     "text": [
      "[16:53:52] WARNING: C:/Users/Administrator/workspace/xgboost-win64_release_1.6.0/src/learner.cc:627: \n",
      "Parameters: { \"colsample_bytree\", \"gamma\", \"max_depth\", \"subsample\" } might not be used.\n",
      "\n",
      "  This could be a false alarm, with some parameters getting used by language bindings but\n",
      "  then being mistakenly passed down to XGBoost core, or some parameter actually being used\n",
      "  but getting flagged wrongly here. Please open an issue if you find any such cases.\n",
      "\n",
      "\n",
      "RMSE: 1219.48\n"
     ]
    }
   ],
   "source": [
    "eta=best_paramsXG['eta']\n",
    "max_depth=best_paramsXG['max_depth']\n",
    "gamma=best_paramsXG['gamma']\n",
    "subsample=best_paramsXG['subsample']\n",
    "colsample_bytree=best_paramsXG['colsample_bytree']\n",
    "alpha=best_paramsXG['eta']\n",
    "n_estimators=best_paramsXG['n_estimators']\n",
    "\n",
    "model=XGBRegressor(objective='reg:squarederror', eta=eta, max_depth=max_depth,  gamma=gamma, subsample=subsample, colsample_bytree=colsample_bytree, alpha=alpha, n_estimators=n_estimators,booster=\"gblinear\")\n",
    "model.fit(X_train, y_train)\n",
    "y_pred=model.predict(X_test)\n",
    "\n",
    "r2=r2_score(y_test, y_pred)\n",
    "r2\n",
    "\n",
    "print(f'r2 score : {r2}')\n",
    "from sklearn.metrics import mean_squared_error\n",
    "\n",
    "mse = mean_squared_error(y_test, y_pred)\n",
    "print(\"RMSE: %.2f\" % (mse**(1/2.0)))"
   ]
  },
  {
   "cell_type": "code",
   "execution_count": 50,
   "id": "a52fc942",
   "metadata": {},
   "outputs": [
    {
     "name": "stdout",
     "output_type": "stream",
     "text": [
      "r2 score : 0.7311328328610374\n",
      "RMSE: 854.85\n"
     ]
    }
   ],
   "source": [
    "from xgboost import XGBRegressor\n",
    "xg = XGBRegressor()\n",
    "xg.fit(X_train,y_train)\n",
    "y_pred = xg.predict(X_test)\n",
    "\n",
    "r = r2_score(y_test,y_pred)\n",
    "print(f'r2 score : {r}')\n",
    "from sklearn.metrics import mean_squared_error\n",
    "\n",
    "mse = mean_squared_error(y_test, y_pred)\n",
    "print(\"RMSE: %.2f\" % (mse**(1/2.0)))"
   ]
  },
  {
   "cell_type": "code",
   "execution_count": 52,
   "id": "a3635e37",
   "metadata": {},
   "outputs": [
    {
     "name": "stdout",
     "output_type": "stream",
     "text": [
      "r2 score : 0.7616947078584819\n",
      "RMSE: 804.80\n"
     ]
    }
   ],
   "source": [
    "criterion=best_paramsRF['criterion']\n",
    "max_depth=best_paramsRF['max_depth']\n",
    "max_features=best_paramsRF['max_features']\n",
    "max_samples=best_paramsRF['max_samples']\n",
    "n_estimators=best_paramsRF['n_estimators']\n",
    "\n",
    "\n",
    "\n",
    "best_paramsRF = {'criterion': 'absolute_error',\n",
    " 'max_depth': 7,\n",
    " 'max_features': 0.79,\n",
    " 'max_samples': 0.7,\n",
    " 'n_estimators': 75}\n",
    "\n",
    "\n",
    "model=RandomForestRegressor(criterion=criterion, max_depth = max_depth, max_features = max_features, max_samples = max_samples, n_estimators = n_estimators)\n",
    "model.fit(X_train, y_train)\n",
    "y_pred=model.predict(X_test)\n",
    "r2=r2_score(y_test, y_pred)\n",
    "r2\n",
    "\n",
    "print(f'r2 score : {r2}')\n",
    "from sklearn.metrics import mean_squared_error\n",
    "\n",
    "mse = mean_squared_error(y_test, y_pred)\n",
    "print(\"RMSE: %.2f\" % (mse**(1/2.0)))"
   ]
  },
  {
   "cell_type": "code",
   "execution_count": 62,
   "id": "17b4b191",
   "metadata": {},
   "outputs": [
    {
     "data": {
      "text/plain": [
       "array([[-0.81853286, -0.97073217,  1.74745381, ..., -0.42915412,\n",
       "        -1.36933384, -0.25265831],\n",
       "       [-1.59119397, -0.90811123, -1.48902325, ..., -0.42915412,\n",
       "         1.09156913,  1.00297245],\n",
       "       [ 1.05597041, -0.95691733,  0.01004021, ..., -0.42915412,\n",
       "        -1.36933384, -0.25265831],\n",
       "       ...,\n",
       "       [-0.52135551, -0.59978449, -0.89720755, ...,  0.89801589,\n",
       "        -0.13888236, -0.25265831],\n",
       "       [-1.2963026 ,  1.53287976, -0.60797692, ..., -0.42915412,\n",
       "         1.09156913,  1.00297245],\n",
       "       [ 0.43875592, -0.41193591, -1.05226104, ...,  0.89801589,\n",
       "        -1.36933384, -0.25265831]])"
      ]
     },
     "execution_count": 62,
     "metadata": {},
     "output_type": "execute_result"
    }
   ],
   "source": [
    "X_train"
   ]
  },
  {
   "cell_type": "code",
   "execution_count": 53,
   "id": "0882cab0",
   "metadata": {},
   "outputs": [
    {
     "name": "stdout",
     "output_type": "stream",
     "text": [
      "r2 score : 0.7428021644699656\n",
      "RMSE: 836.10\n"
     ]
    }
   ],
   "source": [
    "from sklearn.ensemble import RandomForestRegressor\n",
    "rf = RandomForestRegressor()\n",
    "rf.fit(X_train,y_train)\n",
    "y_pred = rf.predict(X_test)\n",
    "\n",
    "r = r2_score(y_test,y_pred)\n",
    "r\n",
    "\n",
    "print(f'r2 score : {r}')\n",
    "from sklearn.metrics import mean_squared_error\n",
    "\n",
    "mse = mean_squared_error(y_test, y_pred)\n",
    "print(\"RMSE: %.2f\" % (mse**(1/2.0)))"
   ]
  },
  {
   "cell_type": "code",
   "execution_count": 58,
   "id": "c7cac8b4",
   "metadata": {},
   "outputs": [
    {
     "data": {
      "text/plain": [
       "[0.1, 0.2, 0.3, 0.4]"
      ]
     },
     "execution_count": 58,
     "metadata": {},
     "output_type": "execute_result"
    }
   ],
   "source": [
    "a = [i/10 for i in range(1,5)]\n",
    "a"
   ]
  },
  {
   "cell_type": "code",
   "execution_count": 56,
   "id": "acbbda14",
   "metadata": {},
   "outputs": [
    {
     "name": "stdout",
     "output_type": "stream",
     "text": [
      "Fitting 5 folds for each of 54 candidates, totalling 270 fits\n",
      "Best parameters: {'colsample_bytree': 0.7, 'learning_rate': 0.01, 'max_depth': 6, 'n_estimators': 500}\n",
      "Lowest RMSE:  838.0135756035144\n"
     ]
    }
   ],
   "source": [
    "from sklearn.model_selection import GridSearchCV\n",
    "params1 = { 'max_depth': [3,6,10],\n",
    "           'learning_rate': [0.01, 0.05, 0.1],\n",
    "           'n_estimators': [100, 500, 1000],\n",
    "           'colsample_bytree': [0.3, 0.7]}\n",
    "\n",
    "\n",
    "\n",
    "xgbr = XGBRegressor(seed = 20)\n",
    "clf = GridSearchCV(estimator=xgbr, \n",
    "                   param_grid=params,\n",
    "                   scoring='neg_mean_squared_error', \n",
    "                   verbose=1)\n",
    "clf.fit(X_train,y_train)\n",
    "print(\"Best parameters:\", clf.best_params_)\n",
    "print(\"Lowest RMSE: \", (-clf.best_score_)**(1/2.0))"
   ]
  },
  {
   "cell_type": "code",
   "execution_count": 57,
   "id": "b05ef4a6",
   "metadata": {},
   "outputs": [
    {
     "name": "stdout",
     "output_type": "stream",
     "text": [
      "r2 score : 0.7639040495562206\n",
      "RMSE: 801.06\n"
     ]
    }
   ],
   "source": [
    "Best parameters: {'colsample_bytree': 0.7, 'learning_rate': 0.01,\n",
    "                  'max_depth': 6, 'n_estimators': 500}\n",
    "\n",
    "model=XGBRegressor(objective='reg:squarederror',  max_depth=6, colsample_bytree=0.7, n_estimators=500,learning_rate=0.01)\n",
    "model.fit(X_train, y_train)\n",
    "y_pred=model.predict(X_test)\n",
    "\n",
    "r2=r2_score(y_test, y_pred)\n",
    "r2\n",
    "\n",
    "print(f'r2 score : {r2}')\n",
    "from sklearn.metrics import mean_squared_error\n",
    "\n",
    "mse = mean_squared_error(y_test, y_pred)\n",
    "print(\"RMSE: %.2f\" % (mse**(1/2.0)))"
   ]
  },
  {
   "cell_type": "code",
   "execution_count": 21,
   "id": "275a1679",
   "metadata": {},
   "outputs": [
    {
     "name": "stdout",
     "output_type": "stream",
     "text": [
      "r2 score : 0.7639040495562206\n",
      "RMSE: 801.06\n"
     ]
    }
   ],
   "source": [
    "# X_with Cluster \n",
    "from xgboost import XGBRegressor\n",
    "\n",
    "model=XGBRegressor(objective='reg:squarederror',  max_depth=6, colsample_bytree=0.7, n_estimators=500,learning_rate=0.01)\n",
    "model.fit(X_train, y_train)\n",
    "y_pred=model.predict(X_test)\n",
    "\n",
    "r2=r2_score(y_test, y_pred)\n",
    "r2\n",
    "\n",
    "print(f'r2 score : {r2}')\n",
    "from sklearn.metrics import mean_squared_error\n",
    "\n",
    "mse = mean_squared_error(y_test, y_pred)\n",
    "print(\"RMSE: %.2f\" % (mse**(1/2.0)))"
   ]
  },
  {
   "cell_type": "code",
   "execution_count": 2,
   "id": "2c61ec8f",
   "metadata": {},
   "outputs": [],
   "source": [
    "import numpy as np\n",
    "def load_numpy_array_data(file_path: str) -> np.array:\n",
    "    with open(file_path, 'rb') as file_obj:\n",
    "            return np.load(file_obj)"
   ]
  },
  {
   "cell_type": "code",
   "execution_count": 56,
   "id": "e8aff346",
   "metadata": {},
   "outputs": [],
   "source": [
    "train_array = load_numpy_array_data(r\"D:\\Projects_new\\Stores_Sales_Prediction\\sales\\artifact\\data_transformation\\2022-07-24-21-30-09\\transformed_data\\train\\train.npz\")\n",
    "test_array = load_numpy_array_data(r\"D:\\Projects_new\\Stores_Sales_Prediction\\sales\\artifact\\data_transformation\\2022-07-24-21-30-09\\transformed_data\\test\\test.npz\")"
   ]
  },
  {
   "cell_type": "code",
   "execution_count": 55,
   "id": "f39d0039",
   "metadata": {},
   "outputs": [
    {
     "data": {
      "text/html": [
       "<div>\n",
       "<style scoped>\n",
       "    .dataframe tbody tr th:only-of-type {\n",
       "        vertical-align: middle;\n",
       "    }\n",
       "\n",
       "    .dataframe tbody tr th {\n",
       "        vertical-align: top;\n",
       "    }\n",
       "\n",
       "    .dataframe thead th {\n",
       "        text-align: right;\n",
       "    }\n",
       "</style>\n",
       "<table border=\"1\" class=\"dataframe\">\n",
       "  <thead>\n",
       "    <tr style=\"text-align: right;\">\n",
       "      <th></th>\n",
       "      <th>0</th>\n",
       "      <th>1</th>\n",
       "      <th>2</th>\n",
       "      <th>3</th>\n",
       "      <th>4</th>\n",
       "      <th>5</th>\n",
       "      <th>6</th>\n",
       "      <th>7</th>\n",
       "      <th>8</th>\n",
       "    </tr>\n",
       "  </thead>\n",
       "  <tbody>\n",
       "    <tr>\n",
       "      <th>0</th>\n",
       "      <td>-0.818533</td>\n",
       "      <td>-0.970732</td>\n",
       "      <td>1.747454</td>\n",
       "      <td>-0.139541</td>\n",
       "      <td>-0.179795</td>\n",
       "      <td>-0.997813</td>\n",
       "      <td>-0.429154</td>\n",
       "      <td>-1.369334</td>\n",
       "      <td>-0.252658</td>\n",
       "    </tr>\n",
       "    <tr>\n",
       "      <th>1</th>\n",
       "      <td>-1.591194</td>\n",
       "      <td>-0.908111</td>\n",
       "      <td>-1.489023</td>\n",
       "      <td>-1.334103</td>\n",
       "      <td>-2.095286</td>\n",
       "      <td>1.236942</td>\n",
       "      <td>-0.429154</td>\n",
       "      <td>1.091569</td>\n",
       "      <td>1.002972</td>\n",
       "    </tr>\n",
       "    <tr>\n",
       "      <th>2</th>\n",
       "      <td>1.055970</td>\n",
       "      <td>-0.956917</td>\n",
       "      <td>0.010040</td>\n",
       "      <td>-0.139541</td>\n",
       "      <td>-0.179795</td>\n",
       "      <td>-0.997813</td>\n",
       "      <td>-0.429154</td>\n",
       "      <td>-1.369334</td>\n",
       "      <td>-0.252658</td>\n",
       "    </tr>\n",
       "    <tr>\n",
       "      <th>3</th>\n",
       "      <td>1.444587</td>\n",
       "      <td>-1.281758</td>\n",
       "      <td>0.660050</td>\n",
       "      <td>-0.020085</td>\n",
       "      <td>-0.179795</td>\n",
       "      <td>1.236942</td>\n",
       "      <td>-1.756324</td>\n",
       "      <td>1.091569</td>\n",
       "      <td>-1.508289</td>\n",
       "    </tr>\n",
       "    <tr>\n",
       "      <th>4</th>\n",
       "      <td>-0.903114</td>\n",
       "      <td>-1.281758</td>\n",
       "      <td>-1.399220</td>\n",
       "      <td>1.293934</td>\n",
       "      <td>1.735696</td>\n",
       "      <td>0.119565</td>\n",
       "      <td>-1.756324</td>\n",
       "      <td>1.091569</td>\n",
       "      <td>-0.252658</td>\n",
       "    </tr>\n",
       "    <tr>\n",
       "      <th>...</th>\n",
       "      <td>...</td>\n",
       "      <td>...</td>\n",
       "      <td>...</td>\n",
       "      <td>...</td>\n",
       "      <td>...</td>\n",
       "      <td>...</td>\n",
       "      <td>...</td>\n",
       "      <td>...</td>\n",
       "      <td>...</td>\n",
       "    </tr>\n",
       "    <tr>\n",
       "      <th>8518</th>\n",
       "      <td>-1.375169</td>\n",
       "      <td>-0.181193</td>\n",
       "      <td>1.180783</td>\n",
       "      <td>1.293934</td>\n",
       "      <td>-0.179795</td>\n",
       "      <td>-0.997813</td>\n",
       "      <td>-1.756324</td>\n",
       "      <td>1.091569</td>\n",
       "      <td>-0.252658</td>\n",
       "    </tr>\n",
       "    <tr>\n",
       "      <th>8519</th>\n",
       "      <td>-1.028843</td>\n",
       "      <td>-0.371154</td>\n",
       "      <td>-0.527301</td>\n",
       "      <td>-0.497909</td>\n",
       "      <td>-0.179795</td>\n",
       "      <td>1.236942</td>\n",
       "      <td>0.898016</td>\n",
       "      <td>-0.138882</td>\n",
       "      <td>-0.252658</td>\n",
       "    </tr>\n",
       "    <tr>\n",
       "      <th>8520</th>\n",
       "      <td>-0.521356</td>\n",
       "      <td>-0.599784</td>\n",
       "      <td>-0.897208</td>\n",
       "      <td>-0.736822</td>\n",
       "      <td>1.735696</td>\n",
       "      <td>0.119565</td>\n",
       "      <td>0.898016</td>\n",
       "      <td>-0.138882</td>\n",
       "      <td>-0.252658</td>\n",
       "    </tr>\n",
       "    <tr>\n",
       "      <th>8521</th>\n",
       "      <td>-1.296303</td>\n",
       "      <td>1.532880</td>\n",
       "      <td>-0.607977</td>\n",
       "      <td>-1.334103</td>\n",
       "      <td>-0.179795</td>\n",
       "      <td>1.236942</td>\n",
       "      <td>-0.429154</td>\n",
       "      <td>1.091569</td>\n",
       "      <td>1.002972</td>\n",
       "    </tr>\n",
       "    <tr>\n",
       "      <th>8522</th>\n",
       "      <td>0.438756</td>\n",
       "      <td>-0.411936</td>\n",
       "      <td>-1.052261</td>\n",
       "      <td>0.099372</td>\n",
       "      <td>-2.095286</td>\n",
       "      <td>-0.997813</td>\n",
       "      <td>0.898016</td>\n",
       "      <td>-1.369334</td>\n",
       "      <td>-0.252658</td>\n",
       "    </tr>\n",
       "  </tbody>\n",
       "</table>\n",
       "<p>8523 rows × 9 columns</p>\n",
       "</div>"
      ],
      "text/plain": [
       "             0         1         2         3         4         5         6  \\\n",
       "0    -0.818533 -0.970732  1.747454 -0.139541 -0.179795 -0.997813 -0.429154   \n",
       "1    -1.591194 -0.908111 -1.489023 -1.334103 -2.095286  1.236942 -0.429154   \n",
       "2     1.055970 -0.956917  0.010040 -0.139541 -0.179795 -0.997813 -0.429154   \n",
       "3     1.444587 -1.281758  0.660050 -0.020085 -0.179795  1.236942 -1.756324   \n",
       "4    -0.903114 -1.281758 -1.399220  1.293934  1.735696  0.119565 -1.756324   \n",
       "...        ...       ...       ...       ...       ...       ...       ...   \n",
       "8518 -1.375169 -0.181193  1.180783  1.293934 -0.179795 -0.997813 -1.756324   \n",
       "8519 -1.028843 -0.371154 -0.527301 -0.497909 -0.179795  1.236942  0.898016   \n",
       "8520 -0.521356 -0.599784 -0.897208 -0.736822  1.735696  0.119565  0.898016   \n",
       "8521 -1.296303  1.532880 -0.607977 -1.334103 -0.179795  1.236942 -0.429154   \n",
       "8522  0.438756 -0.411936 -1.052261  0.099372 -2.095286 -0.997813  0.898016   \n",
       "\n",
       "             7         8  \n",
       "0    -1.369334 -0.252658  \n",
       "1     1.091569  1.002972  \n",
       "2    -1.369334 -0.252658  \n",
       "3     1.091569 -1.508289  \n",
       "4     1.091569 -0.252658  \n",
       "...        ...       ...  \n",
       "8518  1.091569 -0.252658  \n",
       "8519 -0.138882 -0.252658  \n",
       "8520 -0.138882 -0.252658  \n",
       "8521  1.091569  1.002972  \n",
       "8522 -1.369334 -0.252658  \n",
       "\n",
       "[8523 rows x 9 columns]"
      ]
     },
     "execution_count": 55,
     "metadata": {},
     "output_type": "execute_result"
    }
   ],
   "source": [
    "pd.DataFrame(train_array[:,:-1])"
   ]
  },
  {
   "cell_type": "code",
   "execution_count": 57,
   "id": "b64a01ea",
   "metadata": {},
   "outputs": [],
   "source": [
    "X_train,y_train,X_test,y_test = train_array[:,:-1],train_array[:,-1],test_array[:,:-1],test_array[:,-1]"
   ]
  },
  {
   "cell_type": "code",
   "execution_count": 58,
   "id": "a2abdbcc",
   "metadata": {},
   "outputs": [
    {
     "data": {
      "text/plain": [
       "0       3735.1380\n",
       "1        443.4228\n",
       "2       2097.2700\n",
       "3        732.3800\n",
       "4        994.7052\n",
       "          ...    \n",
       "8518    2778.3834\n",
       "8519     549.2850\n",
       "8520    1193.1136\n",
       "8521    1845.5976\n",
       "8522     765.6700\n",
       "Name: Item_Outlet_Sales, Length: 8523, dtype: float64"
      ]
     },
     "execution_count": 58,
     "metadata": {},
     "output_type": "execute_result"
    }
   ],
   "source": [
    "y"
   ]
  },
  {
   "cell_type": "code",
   "execution_count": 60,
   "id": "641c6524",
   "metadata": {},
   "outputs": [
    {
     "data": {
      "text/plain": [
       "(8523, 9)"
      ]
     },
     "execution_count": 60,
     "metadata": {},
     "output_type": "execute_result"
    }
   ],
   "source": [
    "X_train.shape"
   ]
  },
  {
   "cell_type": "code",
   "execution_count": 61,
   "id": "0e3d3deb",
   "metadata": {},
   "outputs": [
    {
     "name": "stdout",
     "output_type": "stream",
     "text": [
      "r2 score : 0.0\n",
      "RMSE: 2483.00\n"
     ]
    }
   ],
   "source": [
    "from sklearn.ensemble import RandomForestRegressor\n",
    "from sklearn.metrics import mean_squared_error\n",
    "from sklearn.metrics import r2_score\n",
    "\n",
    "model=RandomForestRegressor(criterion='absolute_error', max_depth = 7, max_features = 0.79, max_samples = 0.7, n_estimators = 75)\n",
    "model.fit(X_train, y_train)\n",
    "y_pred=model.predict(X_test)\n",
    "r2=r2_score(y_test, y_pred)\n",
    "r2\n",
    "\n",
    "print(f'r2 score : {r2}')\n",
    "from sklearn.metrics import mean_squared_error\n",
    "\n",
    "mse = mean_squared_error(y_test, y_pred)\n",
    "print(\"RMSE: %.2f\" % (mse**(1/2.0)))"
   ]
  },
  {
   "cell_type": "code",
   "execution_count": 13,
   "id": "f760b49b",
   "metadata": {},
   "outputs": [
    {
     "data": {
      "text/plain": [
       "RandomForestRegressor()"
      ]
     },
     "execution_count": 13,
     "metadata": {},
     "output_type": "execute_result"
    }
   ],
   "source": [
    "model = RandomForestRegressor()\n",
    "model.fit(X_train,y_train)"
   ]
  },
  {
   "cell_type": "code",
   "execution_count": 44,
   "id": "677e8d2a",
   "metadata": {},
   "outputs": [
    {
     "data": {
      "text/plain": [
       "array([[ 1.79891378, -1.13513761, -0.53203517, ..., -1.36933384,\n",
       "        -0.25265831,  0.        ],\n",
       "       [-1.04713082, -0.5369602 , -0.86192009, ..., -0.13888236,\n",
       "        -0.25265831,  0.        ],\n",
       "       [ 0.39303632,  0.64818319,  1.61809429, ...,  1.09156913,\n",
       "        -1.50828907,  0.        ],\n",
       "       ...,\n",
       "       [-0.65851429,  0.14335811, -0.35728725, ..., -0.13888236,\n",
       "        -0.25265831,  0.        ],\n",
       "       [ 0.5530549 , -1.28175775,  1.18238875, ..., -0.13888236,\n",
       "        -0.25265831,  0.        ],\n",
       "       [-0.77281327,  0.74790727, -0.98274279, ..., -0.13888236,\n",
       "        -0.25265831,  0.        ]])"
      ]
     },
     "execution_count": 44,
     "metadata": {},
     "output_type": "execute_result"
    }
   ],
   "source": [
    "train_array"
   ]
  },
  {
   "cell_type": "code",
   "execution_count": 35,
   "id": "e81594f7",
   "metadata": {},
   "outputs": [
    {
     "data": {
      "text/html": [
       "<div>\n",
       "<style scoped>\n",
       "    .dataframe tbody tr th:only-of-type {\n",
       "        vertical-align: middle;\n",
       "    }\n",
       "\n",
       "    .dataframe tbody tr th {\n",
       "        vertical-align: top;\n",
       "    }\n",
       "\n",
       "    .dataframe thead th {\n",
       "        text-align: right;\n",
       "    }\n",
       "</style>\n",
       "<table border=\"1\" class=\"dataframe\">\n",
       "  <thead>\n",
       "    <tr style=\"text-align: right;\">\n",
       "      <th></th>\n",
       "      <th>Item_Weight</th>\n",
       "      <th>Item_Visibility</th>\n",
       "      <th>Item_MRP</th>\n",
       "      <th>Age_Outlet</th>\n",
       "      <th>Item_Identifier</th>\n",
       "      <th>Item_Fat_Content</th>\n",
       "      <th>Outlet_Size</th>\n",
       "      <th>Outlet_Location_Type</th>\n",
       "      <th>Outlet_Type</th>\n",
       "      <th>cluster</th>\n",
       "    </tr>\n",
       "  </thead>\n",
       "  <tbody>\n",
       "    <tr>\n",
       "      <th>0</th>\n",
       "      <td>-0.808326</td>\n",
       "      <td>-1.111358</td>\n",
       "      <td>1.747454</td>\n",
       "      <td>-0.139541</td>\n",
       "      <td>1.0</td>\n",
       "      <td>0.0</td>\n",
       "      <td>1.0</td>\n",
       "      <td>0.0</td>\n",
       "      <td>1.0</td>\n",
       "      <td>1</td>\n",
       "    </tr>\n",
       "    <tr>\n",
       "      <th>1</th>\n",
       "      <td>-1.581672</td>\n",
       "      <td>-1.045067</td>\n",
       "      <td>-1.489023</td>\n",
       "      <td>-1.334103</td>\n",
       "      <td>0.0</td>\n",
       "      <td>2.0</td>\n",
       "      <td>1.0</td>\n",
       "      <td>2.0</td>\n",
       "      <td>2.0</td>\n",
       "      <td>1</td>\n",
       "    </tr>\n",
       "    <tr>\n",
       "      <th>2</th>\n",
       "      <td>1.067837</td>\n",
       "      <td>-1.096733</td>\n",
       "      <td>0.010040</td>\n",
       "      <td>-0.139541</td>\n",
       "      <td>1.0</td>\n",
       "      <td>0.0</td>\n",
       "      <td>1.0</td>\n",
       "      <td>0.0</td>\n",
       "      <td>1.0</td>\n",
       "      <td>1</td>\n",
       "    </tr>\n",
       "    <tr>\n",
       "      <th>3</th>\n",
       "      <td>1.456798</td>\n",
       "      <td>-0.083740</td>\n",
       "      <td>0.660050</td>\n",
       "      <td>-0.020085</td>\n",
       "      <td>1.0</td>\n",
       "      <td>2.0</td>\n",
       "      <td>2.0</td>\n",
       "      <td>2.0</td>\n",
       "      <td>0.0</td>\n",
       "      <td>1</td>\n",
       "    </tr>\n",
       "    <tr>\n",
       "      <th>4</th>\n",
       "      <td>-0.892983</td>\n",
       "      <td>-0.083740</td>\n",
       "      <td>-1.399220</td>\n",
       "      <td>1.293934</td>\n",
       "      <td>2.0</td>\n",
       "      <td>1.0</td>\n",
       "      <td>0.0</td>\n",
       "      <td>2.0</td>\n",
       "      <td>1.0</td>\n",
       "      <td>1</td>\n",
       "    </tr>\n",
       "    <tr>\n",
       "      <th>...</th>\n",
       "      <td>...</td>\n",
       "      <td>...</td>\n",
       "      <td>...</td>\n",
       "      <td>...</td>\n",
       "      <td>...</td>\n",
       "      <td>...</td>\n",
       "      <td>...</td>\n",
       "      <td>...</td>\n",
       "      <td>...</td>\n",
       "      <td>...</td>\n",
       "    </tr>\n",
       "    <tr>\n",
       "      <th>8518</th>\n",
       "      <td>-1.365456</td>\n",
       "      <td>-0.275551</td>\n",
       "      <td>1.180783</td>\n",
       "      <td>1.293934</td>\n",
       "      <td>1.0</td>\n",
       "      <td>0.0</td>\n",
       "      <td>0.0</td>\n",
       "      <td>2.0</td>\n",
       "      <td>1.0</td>\n",
       "      <td>0</td>\n",
       "    </tr>\n",
       "    <tr>\n",
       "      <th>8519</th>\n",
       "      <td>-1.018823</td>\n",
       "      <td>-0.476643</td>\n",
       "      <td>-0.527301</td>\n",
       "      <td>-0.497909</td>\n",
       "      <td>1.0</td>\n",
       "      <td>2.0</td>\n",
       "      <td>1.0</td>\n",
       "      <td>1.0</td>\n",
       "      <td>1.0</td>\n",
       "      <td>0</td>\n",
       "    </tr>\n",
       "    <tr>\n",
       "      <th>8520</th>\n",
       "      <td>-0.510886</td>\n",
       "      <td>-0.718672</td>\n",
       "      <td>-0.897208</td>\n",
       "      <td>-0.736822</td>\n",
       "      <td>2.0</td>\n",
       "      <td>1.0</td>\n",
       "      <td>2.0</td>\n",
       "      <td>1.0</td>\n",
       "      <td>1.0</td>\n",
       "      <td>0</td>\n",
       "    </tr>\n",
       "    <tr>\n",
       "      <th>8521</th>\n",
       "      <td>-1.286519</td>\n",
       "      <td>1.538968</td>\n",
       "      <td>-0.607977</td>\n",
       "      <td>-1.334103</td>\n",
       "      <td>1.0</td>\n",
       "      <td>2.0</td>\n",
       "      <td>1.0</td>\n",
       "      <td>2.0</td>\n",
       "      <td>2.0</td>\n",
       "      <td>0</td>\n",
       "    </tr>\n",
       "    <tr>\n",
       "      <th>8522</th>\n",
       "      <td>0.450076</td>\n",
       "      <td>-0.519816</td>\n",
       "      <td>-1.052261</td>\n",
       "      <td>0.099372</td>\n",
       "      <td>0.0</td>\n",
       "      <td>0.0</td>\n",
       "      <td>2.0</td>\n",
       "      <td>0.0</td>\n",
       "      <td>1.0</td>\n",
       "      <td>0</td>\n",
       "    </tr>\n",
       "  </tbody>\n",
       "</table>\n",
       "<p>8523 rows × 10 columns</p>\n",
       "</div>"
      ],
      "text/plain": [
       "      Item_Weight  Item_Visibility  Item_MRP  Age_Outlet  Item_Identifier  \\\n",
       "0       -0.808326        -1.111358  1.747454   -0.139541              1.0   \n",
       "1       -1.581672        -1.045067 -1.489023   -1.334103              0.0   \n",
       "2        1.067837        -1.096733  0.010040   -0.139541              1.0   \n",
       "3        1.456798        -0.083740  0.660050   -0.020085              1.0   \n",
       "4       -0.892983        -0.083740 -1.399220    1.293934              2.0   \n",
       "...           ...              ...       ...         ...              ...   \n",
       "8518    -1.365456        -0.275551  1.180783    1.293934              1.0   \n",
       "8519    -1.018823        -0.476643 -0.527301   -0.497909              1.0   \n",
       "8520    -0.510886        -0.718672 -0.897208   -0.736822              2.0   \n",
       "8521    -1.286519         1.538968 -0.607977   -1.334103              1.0   \n",
       "8522     0.450076        -0.519816 -1.052261    0.099372              0.0   \n",
       "\n",
       "      Item_Fat_Content  Outlet_Size  Outlet_Location_Type  Outlet_Type  \\\n",
       "0                  0.0          1.0                   0.0          1.0   \n",
       "1                  2.0          1.0                   2.0          2.0   \n",
       "2                  0.0          1.0                   0.0          1.0   \n",
       "3                  2.0          2.0                   2.0          0.0   \n",
       "4                  1.0          0.0                   2.0          1.0   \n",
       "...                ...          ...                   ...          ...   \n",
       "8518               0.0          0.0                   2.0          1.0   \n",
       "8519               2.0          1.0                   1.0          1.0   \n",
       "8520               1.0          2.0                   1.0          1.0   \n",
       "8521               2.0          1.0                   2.0          2.0   \n",
       "8522               0.0          2.0                   0.0          1.0   \n",
       "\n",
       "      cluster  \n",
       "0           1  \n",
       "1           1  \n",
       "2           1  \n",
       "3           1  \n",
       "4           1  \n",
       "...       ...  \n",
       "8518        0  \n",
       "8519        0  \n",
       "8520        0  \n",
       "8521        0  \n",
       "8522        0  \n",
       "\n",
       "[8523 rows x 10 columns]"
      ]
     },
     "execution_count": 35,
     "metadata": {},
     "output_type": "execute_result"
    }
   ],
   "source": [
    "X"
   ]
  },
  {
   "cell_type": "code",
   "execution_count": 39,
   "id": "c8bafabf",
   "metadata": {},
   "outputs": [
    {
     "data": {
      "text/html": [
       "<div>\n",
       "<style scoped>\n",
       "    .dataframe tbody tr th:only-of-type {\n",
       "        vertical-align: middle;\n",
       "    }\n",
       "\n",
       "    .dataframe tbody tr th {\n",
       "        vertical-align: top;\n",
       "    }\n",
       "\n",
       "    .dataframe thead th {\n",
       "        text-align: right;\n",
       "    }\n",
       "</style>\n",
       "<table border=\"1\" class=\"dataframe\">\n",
       "  <thead>\n",
       "    <tr style=\"text-align: right;\">\n",
       "      <th></th>\n",
       "      <th>Item_Weight</th>\n",
       "      <th>Item_Visibility</th>\n",
       "      <th>Item_MRP</th>\n",
       "      <th>Age_Outlet</th>\n",
       "      <th>Item_Identifier</th>\n",
       "      <th>Item_Fat_Content</th>\n",
       "      <th>Outlet_Size</th>\n",
       "      <th>Outlet_Location_Type</th>\n",
       "      <th>Outlet_Type</th>\n",
       "      <th>cluster</th>\n",
       "    </tr>\n",
       "  </thead>\n",
       "  <tbody>\n",
       "    <tr>\n",
       "      <th>0</th>\n",
       "      <td>1.798914</td>\n",
       "      <td>-1.135138</td>\n",
       "      <td>-0.532035</td>\n",
       "      <td>-0.139541</td>\n",
       "      <td>-0.179795</td>\n",
       "      <td>-0.997813</td>\n",
       "      <td>-0.429154</td>\n",
       "      <td>-1.369334</td>\n",
       "      <td>-0.252658</td>\n",
       "      <td>0.0</td>\n",
       "    </tr>\n",
       "    <tr>\n",
       "      <th>1</th>\n",
       "      <td>-1.047131</td>\n",
       "      <td>-0.536960</td>\n",
       "      <td>-0.861920</td>\n",
       "      <td>-1.095190</td>\n",
       "      <td>-0.179795</td>\n",
       "      <td>1.236942</td>\n",
       "      <td>0.898016</td>\n",
       "      <td>-0.138882</td>\n",
       "      <td>-0.252658</td>\n",
       "      <td>0.0</td>\n",
       "    </tr>\n",
       "    <tr>\n",
       "      <th>2</th>\n",
       "      <td>0.393036</td>\n",
       "      <td>0.648183</td>\n",
       "      <td>1.618094</td>\n",
       "      <td>-0.020085</td>\n",
       "      <td>1.735696</td>\n",
       "      <td>0.119565</td>\n",
       "      <td>-1.756324</td>\n",
       "      <td>1.091569</td>\n",
       "      <td>-1.508289</td>\n",
       "      <td>0.0</td>\n",
       "    </tr>\n",
       "    <tr>\n",
       "      <th>3</th>\n",
       "      <td>-1.272300</td>\n",
       "      <td>-0.983503</td>\n",
       "      <td>0.225484</td>\n",
       "      <td>-1.095190</td>\n",
       "      <td>-0.179795</td>\n",
       "      <td>-0.997813</td>\n",
       "      <td>0.898016</td>\n",
       "      <td>-0.138882</td>\n",
       "      <td>-0.252658</td>\n",
       "      <td>0.0</td>\n",
       "    </tr>\n",
       "    <tr>\n",
       "      <th>4</th>\n",
       "      <td>0.186917</td>\n",
       "      <td>1.016910</td>\n",
       "      <td>1.497272</td>\n",
       "      <td>1.532846</td>\n",
       "      <td>-0.179795</td>\n",
       "      <td>1.236942</td>\n",
       "      <td>-0.429154</td>\n",
       "      <td>1.091569</td>\n",
       "      <td>2.258603</td>\n",
       "      <td>0.0</td>\n",
       "    </tr>\n",
       "    <tr>\n",
       "      <th>...</th>\n",
       "      <td>...</td>\n",
       "      <td>...</td>\n",
       "      <td>...</td>\n",
       "      <td>...</td>\n",
       "      <td>...</td>\n",
       "      <td>...</td>\n",
       "      <td>...</td>\n",
       "      <td>...</td>\n",
       "      <td>...</td>\n",
       "      <td>...</td>\n",
       "    </tr>\n",
       "    <tr>\n",
       "      <th>5676</th>\n",
       "      <td>-0.544215</td>\n",
       "      <td>-1.020172</td>\n",
       "      <td>0.005181</td>\n",
       "      <td>0.099372</td>\n",
       "      <td>-0.179795</td>\n",
       "      <td>1.236942</td>\n",
       "      <td>0.898016</td>\n",
       "      <td>-1.369334</td>\n",
       "      <td>-0.252658</td>\n",
       "      <td>0.0</td>\n",
       "    </tr>\n",
       "    <tr>\n",
       "      <th>5677</th>\n",
       "      <td>-1.207149</td>\n",
       "      <td>1.489663</td>\n",
       "      <td>0.452086</td>\n",
       "      <td>-1.334103</td>\n",
       "      <td>-0.179795</td>\n",
       "      <td>1.236942</td>\n",
       "      <td>-0.429154</td>\n",
       "      <td>1.091569</td>\n",
       "      <td>1.002972</td>\n",
       "      <td>0.0</td>\n",
       "    </tr>\n",
       "    <tr>\n",
       "      <th>5678</th>\n",
       "      <td>-0.658514</td>\n",
       "      <td>0.143358</td>\n",
       "      <td>-0.357287</td>\n",
       "      <td>-0.497909</td>\n",
       "      <td>1.735696</td>\n",
       "      <td>0.119565</td>\n",
       "      <td>0.898016</td>\n",
       "      <td>-0.138882</td>\n",
       "      <td>-0.252658</td>\n",
       "      <td>0.0</td>\n",
       "    </tr>\n",
       "    <tr>\n",
       "      <th>5679</th>\n",
       "      <td>0.553055</td>\n",
       "      <td>-1.281758</td>\n",
       "      <td>1.182389</td>\n",
       "      <td>-1.095190</td>\n",
       "      <td>-0.179795</td>\n",
       "      <td>1.236942</td>\n",
       "      <td>0.898016</td>\n",
       "      <td>-0.138882</td>\n",
       "      <td>-0.252658</td>\n",
       "      <td>0.0</td>\n",
       "    </tr>\n",
       "    <tr>\n",
       "      <th>5680</th>\n",
       "      <td>-0.772813</td>\n",
       "      <td>0.747907</td>\n",
       "      <td>-0.982743</td>\n",
       "      <td>-0.497909</td>\n",
       "      <td>-0.179795</td>\n",
       "      <td>1.236942</td>\n",
       "      <td>0.898016</td>\n",
       "      <td>-0.138882</td>\n",
       "      <td>-0.252658</td>\n",
       "      <td>0.0</td>\n",
       "    </tr>\n",
       "  </tbody>\n",
       "</table>\n",
       "<p>5681 rows × 10 columns</p>\n",
       "</div>"
      ],
      "text/plain": [
       "      Item_Weight  Item_Visibility  Item_MRP  Age_Outlet  Item_Identifier  \\\n",
       "0        1.798914        -1.135138 -0.532035   -0.139541        -0.179795   \n",
       "1       -1.047131        -0.536960 -0.861920   -1.095190        -0.179795   \n",
       "2        0.393036         0.648183  1.618094   -0.020085         1.735696   \n",
       "3       -1.272300        -0.983503  0.225484   -1.095190        -0.179795   \n",
       "4        0.186917         1.016910  1.497272    1.532846        -0.179795   \n",
       "...           ...              ...       ...         ...              ...   \n",
       "5676    -0.544215        -1.020172  0.005181    0.099372        -0.179795   \n",
       "5677    -1.207149         1.489663  0.452086   -1.334103        -0.179795   \n",
       "5678    -0.658514         0.143358 -0.357287   -0.497909         1.735696   \n",
       "5679     0.553055        -1.281758  1.182389   -1.095190        -0.179795   \n",
       "5680    -0.772813         0.747907 -0.982743   -0.497909        -0.179795   \n",
       "\n",
       "      Item_Fat_Content  Outlet_Size  Outlet_Location_Type  Outlet_Type  \\\n",
       "0            -0.997813    -0.429154             -1.369334    -0.252658   \n",
       "1             1.236942     0.898016             -0.138882    -0.252658   \n",
       "2             0.119565    -1.756324              1.091569    -1.508289   \n",
       "3            -0.997813     0.898016             -0.138882    -0.252658   \n",
       "4             1.236942    -0.429154              1.091569     2.258603   \n",
       "...                ...          ...                   ...          ...   \n",
       "5676          1.236942     0.898016             -1.369334    -0.252658   \n",
       "5677          1.236942    -0.429154              1.091569     1.002972   \n",
       "5678          0.119565     0.898016             -0.138882    -0.252658   \n",
       "5679          1.236942     0.898016             -0.138882    -0.252658   \n",
       "5680          1.236942     0.898016             -0.138882    -0.252658   \n",
       "\n",
       "      cluster  \n",
       "0         0.0  \n",
       "1         0.0  \n",
       "2         0.0  \n",
       "3         0.0  \n",
       "4         0.0  \n",
       "...       ...  \n",
       "5676      0.0  \n",
       "5677      0.0  \n",
       "5678      0.0  \n",
       "5679      0.0  \n",
       "5680      0.0  \n",
       "\n",
       "[5681 rows x 10 columns]"
      ]
     },
     "execution_count": 39,
     "metadata": {},
     "output_type": "execute_result"
    }
   ],
   "source": [
    "df = pd.DataFrame(train_array,columns=X.columns)\n",
    "df"
   ]
  },
  {
   "cell_type": "code",
   "execution_count": 40,
   "id": "0feb03d8",
   "metadata": {},
   "outputs": [],
   "source": [
    "df.drop(['cluster'],inplace=True,axis=1)"
   ]
  },
  {
   "cell_type": "code",
   "execution_count": 41,
   "id": "1835e7a1",
   "metadata": {},
   "outputs": [
    {
     "data": {
      "text/html": [
       "<div>\n",
       "<style scoped>\n",
       "    .dataframe tbody tr th:only-of-type {\n",
       "        vertical-align: middle;\n",
       "    }\n",
       "\n",
       "    .dataframe tbody tr th {\n",
       "        vertical-align: top;\n",
       "    }\n",
       "\n",
       "    .dataframe thead th {\n",
       "        text-align: right;\n",
       "    }\n",
       "</style>\n",
       "<table border=\"1\" class=\"dataframe\">\n",
       "  <thead>\n",
       "    <tr style=\"text-align: right;\">\n",
       "      <th></th>\n",
       "      <th>Item_Weight</th>\n",
       "      <th>Item_Visibility</th>\n",
       "      <th>Item_MRP</th>\n",
       "      <th>Age_Outlet</th>\n",
       "      <th>Item_Identifier</th>\n",
       "      <th>Item_Fat_Content</th>\n",
       "      <th>Outlet_Size</th>\n",
       "      <th>Outlet_Location_Type</th>\n",
       "      <th>Outlet_Type</th>\n",
       "    </tr>\n",
       "  </thead>\n",
       "  <tbody>\n",
       "    <tr>\n",
       "      <th>0</th>\n",
       "      <td>1.798914</td>\n",
       "      <td>-1.135138</td>\n",
       "      <td>-0.532035</td>\n",
       "      <td>-0.139541</td>\n",
       "      <td>-0.179795</td>\n",
       "      <td>-0.997813</td>\n",
       "      <td>-0.429154</td>\n",
       "      <td>-1.369334</td>\n",
       "      <td>-0.252658</td>\n",
       "    </tr>\n",
       "    <tr>\n",
       "      <th>1</th>\n",
       "      <td>-1.047131</td>\n",
       "      <td>-0.536960</td>\n",
       "      <td>-0.861920</td>\n",
       "      <td>-1.095190</td>\n",
       "      <td>-0.179795</td>\n",
       "      <td>1.236942</td>\n",
       "      <td>0.898016</td>\n",
       "      <td>-0.138882</td>\n",
       "      <td>-0.252658</td>\n",
       "    </tr>\n",
       "    <tr>\n",
       "      <th>2</th>\n",
       "      <td>0.393036</td>\n",
       "      <td>0.648183</td>\n",
       "      <td>1.618094</td>\n",
       "      <td>-0.020085</td>\n",
       "      <td>1.735696</td>\n",
       "      <td>0.119565</td>\n",
       "      <td>-1.756324</td>\n",
       "      <td>1.091569</td>\n",
       "      <td>-1.508289</td>\n",
       "    </tr>\n",
       "    <tr>\n",
       "      <th>3</th>\n",
       "      <td>-1.272300</td>\n",
       "      <td>-0.983503</td>\n",
       "      <td>0.225484</td>\n",
       "      <td>-1.095190</td>\n",
       "      <td>-0.179795</td>\n",
       "      <td>-0.997813</td>\n",
       "      <td>0.898016</td>\n",
       "      <td>-0.138882</td>\n",
       "      <td>-0.252658</td>\n",
       "    </tr>\n",
       "    <tr>\n",
       "      <th>4</th>\n",
       "      <td>0.186917</td>\n",
       "      <td>1.016910</td>\n",
       "      <td>1.497272</td>\n",
       "      <td>1.532846</td>\n",
       "      <td>-0.179795</td>\n",
       "      <td>1.236942</td>\n",
       "      <td>-0.429154</td>\n",
       "      <td>1.091569</td>\n",
       "      <td>2.258603</td>\n",
       "    </tr>\n",
       "    <tr>\n",
       "      <th>...</th>\n",
       "      <td>...</td>\n",
       "      <td>...</td>\n",
       "      <td>...</td>\n",
       "      <td>...</td>\n",
       "      <td>...</td>\n",
       "      <td>...</td>\n",
       "      <td>...</td>\n",
       "      <td>...</td>\n",
       "      <td>...</td>\n",
       "    </tr>\n",
       "    <tr>\n",
       "      <th>5676</th>\n",
       "      <td>-0.544215</td>\n",
       "      <td>-1.020172</td>\n",
       "      <td>0.005181</td>\n",
       "      <td>0.099372</td>\n",
       "      <td>-0.179795</td>\n",
       "      <td>1.236942</td>\n",
       "      <td>0.898016</td>\n",
       "      <td>-1.369334</td>\n",
       "      <td>-0.252658</td>\n",
       "    </tr>\n",
       "    <tr>\n",
       "      <th>5677</th>\n",
       "      <td>-1.207149</td>\n",
       "      <td>1.489663</td>\n",
       "      <td>0.452086</td>\n",
       "      <td>-1.334103</td>\n",
       "      <td>-0.179795</td>\n",
       "      <td>1.236942</td>\n",
       "      <td>-0.429154</td>\n",
       "      <td>1.091569</td>\n",
       "      <td>1.002972</td>\n",
       "    </tr>\n",
       "    <tr>\n",
       "      <th>5678</th>\n",
       "      <td>-0.658514</td>\n",
       "      <td>0.143358</td>\n",
       "      <td>-0.357287</td>\n",
       "      <td>-0.497909</td>\n",
       "      <td>1.735696</td>\n",
       "      <td>0.119565</td>\n",
       "      <td>0.898016</td>\n",
       "      <td>-0.138882</td>\n",
       "      <td>-0.252658</td>\n",
       "    </tr>\n",
       "    <tr>\n",
       "      <th>5679</th>\n",
       "      <td>0.553055</td>\n",
       "      <td>-1.281758</td>\n",
       "      <td>1.182389</td>\n",
       "      <td>-1.095190</td>\n",
       "      <td>-0.179795</td>\n",
       "      <td>1.236942</td>\n",
       "      <td>0.898016</td>\n",
       "      <td>-0.138882</td>\n",
       "      <td>-0.252658</td>\n",
       "    </tr>\n",
       "    <tr>\n",
       "      <th>5680</th>\n",
       "      <td>-0.772813</td>\n",
       "      <td>0.747907</td>\n",
       "      <td>-0.982743</td>\n",
       "      <td>-0.497909</td>\n",
       "      <td>-0.179795</td>\n",
       "      <td>1.236942</td>\n",
       "      <td>0.898016</td>\n",
       "      <td>-0.138882</td>\n",
       "      <td>-0.252658</td>\n",
       "    </tr>\n",
       "  </tbody>\n",
       "</table>\n",
       "<p>5681 rows × 9 columns</p>\n",
       "</div>"
      ],
      "text/plain": [
       "      Item_Weight  Item_Visibility  Item_MRP  Age_Outlet  Item_Identifier  \\\n",
       "0        1.798914        -1.135138 -0.532035   -0.139541        -0.179795   \n",
       "1       -1.047131        -0.536960 -0.861920   -1.095190        -0.179795   \n",
       "2        0.393036         0.648183  1.618094   -0.020085         1.735696   \n",
       "3       -1.272300        -0.983503  0.225484   -1.095190        -0.179795   \n",
       "4        0.186917         1.016910  1.497272    1.532846        -0.179795   \n",
       "...           ...              ...       ...         ...              ...   \n",
       "5676    -0.544215        -1.020172  0.005181    0.099372        -0.179795   \n",
       "5677    -1.207149         1.489663  0.452086   -1.334103        -0.179795   \n",
       "5678    -0.658514         0.143358 -0.357287   -0.497909         1.735696   \n",
       "5679     0.553055        -1.281758  1.182389   -1.095190        -0.179795   \n",
       "5680    -0.772813         0.747907 -0.982743   -0.497909        -0.179795   \n",
       "\n",
       "      Item_Fat_Content  Outlet_Size  Outlet_Location_Type  Outlet_Type  \n",
       "0            -0.997813    -0.429154             -1.369334    -0.252658  \n",
       "1             1.236942     0.898016             -0.138882    -0.252658  \n",
       "2             0.119565    -1.756324              1.091569    -1.508289  \n",
       "3            -0.997813     0.898016             -0.138882    -0.252658  \n",
       "4             1.236942    -0.429154              1.091569     2.258603  \n",
       "...                ...          ...                   ...          ...  \n",
       "5676          1.236942     0.898016             -1.369334    -0.252658  \n",
       "5677          1.236942    -0.429154              1.091569     1.002972  \n",
       "5678          0.119565     0.898016             -0.138882    -0.252658  \n",
       "5679          1.236942     0.898016             -0.138882    -0.252658  \n",
       "5680          1.236942     0.898016             -0.138882    -0.252658  \n",
       "\n",
       "[5681 rows x 9 columns]"
      ]
     },
     "execution_count": 41,
     "metadata": {},
     "output_type": "execute_result"
    }
   ],
   "source": [
    "df"
   ]
  },
  {
   "cell_type": "code",
   "execution_count": null,
   "id": "0fd49e89",
   "metadata": {},
   "outputs": [],
   "source": []
  }
 ],
 "metadata": {
  "kernelspec": {
   "display_name": "Python 3 (ipykernel)",
   "language": "python",
   "name": "python3"
  },
  "language_info": {
   "codemirror_mode": {
    "name": "ipython",
    "version": 3
   },
   "file_extension": ".py",
   "mimetype": "text/x-python",
   "name": "python",
   "nbconvert_exporter": "python",
   "pygments_lexer": "ipython3",
   "version": "3.7.0"
  }
 },
 "nbformat": 4,
 "nbformat_minor": 5
}
